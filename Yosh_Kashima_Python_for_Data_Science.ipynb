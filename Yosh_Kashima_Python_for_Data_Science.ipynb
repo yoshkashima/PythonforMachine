{
 "cells": [
  {
   "cell_type": "markdown",
   "metadata": {},
   "source": [
    "## Python for Data Science\n",
    "### Learning Center\n",
    "### Sanjay"
   ]
  },
  {
   "cell_type": "code",
   "execution_count": 1,
   "metadata": {},
   "outputs": [
    {
     "data": {
      "text/plain": [
       "'\\n30 mins but explains a lot of \\nhttps://www.youtube.com/watch?v=IpGxLWOIZy4\\n--\\n5 mins \\nhttps://www.youtube.com/watch?v=3bJ7RChxMWQ\\n--\\n2 mins \\nhttps://www.youtube.com/watch?v=VUrqddjkxok\\n--\\n2 mins\\nhttps://www.youtube.com/watch?v=ydvDwmE4x-Y\\n--\\n2 mins\\nhttps://www.youtube.com/watch?v=ty-kTUzMnjk\\n'"
      ]
     },
     "execution_count": 1,
     "metadata": {},
     "output_type": "execute_result"
    }
   ],
   "source": [
    "\"\"\"\n",
    "30 mins but explains a lot of \n",
    "https://www.youtube.com/watch?v=IpGxLWOIZy4\n",
    "--\n",
    "5 mins \n",
    "https://www.youtube.com/watch?v=3bJ7RChxMWQ\n",
    "--\n",
    "2 mins \n",
    "https://www.youtube.com/watch?v=VUrqddjkxok\n",
    "--\n",
    "2 mins\n",
    "https://www.youtube.com/watch?v=ydvDwmE4x-Y\n",
    "--\n",
    "2 mins\n",
    "https://www.youtube.com/watch?v=ty-kTUzMnjk\n",
    "\"\"\""
   ]
  },
  {
   "cell_type": "code",
   "execution_count": 2,
   "metadata": {},
   "outputs": [
    {
     "name": "stdout",
     "output_type": "stream",
     "text": [
      "Hello Sunday\n"
     ]
    }
   ],
   "source": [
    "print(\"Hello Sunday\")"
   ]
  },
  {
   "cell_type": "code",
   "execution_count": 3,
   "metadata": {},
   "outputs": [
    {
     "name": "stdout",
     "output_type": "stream",
     "text": [
      "Hello, Python!\n"
     ]
    }
   ],
   "source": [
    "print(\"Hello, Python!\")"
   ]
  },
  {
   "cell_type": "markdown",
   "metadata": {},
   "source": [
    "### --- Exercise 1\n",
    "### Print the following string \"Learning Python for Data Science\""
   ]
  },
  {
   "cell_type": "code",
   "execution_count": 4,
   "metadata": {},
   "outputs": [
    {
     "name": "stdout",
     "output_type": "stream",
     "text": [
      "First Lesson:  Learning Python for Machine Learning\n"
     ]
    }
   ],
   "source": [
    "# Exercise 1 - write code in this cell and click on\n",
    "# \"->|\" below \"Cell\" to run your code in this cell.\n",
    "print(\"First Lesson:  Learning Python for Machine Learning\")"
   ]
  },
  {
   "cell_type": "code",
   "execution_count": 5,
   "metadata": {},
   "outputs": [
    {
     "name": "stdout",
     "output_type": "stream",
     "text": [
      "100\n",
      "1000.0\n",
      "John\n",
      "1\n",
      "1\n",
      "1\n"
     ]
    }
   ],
   "source": [
    "counter = 100          # An integer assignment\n",
    "miles   = 1000.0       # A floating point\n",
    "name    = \"John\"       # A string\n",
    "\n",
    "print(counter)\n",
    "print(miles)\n",
    "print(name)\n",
    "\n",
    "a = b = c = 1\n",
    "print(a)\n",
    "print(b)\n",
    "print(c)"
   ]
  },
  {
   "cell_type": "markdown",
   "metadata": {},
   "source": [
    "### --- Exrecise 2\n",
    "### Create variables with your first_name and last_name\n",
    "### print first_name and last_name"
   ]
  },
  {
   "cell_type": "code",
   "execution_count": 48,
   "metadata": {},
   "outputs": [
    {
     "name": "stdout",
     "output_type": "stream",
     "text": [
      "Yosh Kashima\n"
     ]
    }
   ],
   "source": [
    "# Exercise 2 - Python code\n",
    "first_name = \"Yosh\"\n",
    "last_name = \"Kashima\"\n",
    "print(first_name, last_name)"
   ]
  },
  {
   "cell_type": "code",
   "execution_count": 49,
   "metadata": {},
   "outputs": [
    {
     "name": "stdout",
     "output_type": "stream",
     "text": [
      "Python for Machine Learning, Saturday, seven session 8am to 11:am Lybrook High School \n"
     ]
    }
   ],
   "source": [
    "# Exercise 2b -- write code in this cell and click on \"->|\" below \"Cell\" \n",
    "# to run your code in this cell.\n",
    "# Initialise following variables:\n",
    "class_name = \"Python for Machine Learning, \"\n",
    "which_day = \"Saturday, \"\n",
    "Num_days = \"seven session \"\n",
    "Class_timings = \"8am to 11:am \"\n",
    "Location_LHS = \"Lybrook High School \"\n",
    "# You want to print the following string:\n",
    "# \"ML class is on seven Saturdays at Lynbrook\"\n",
    "str1 = class_name+which_day+Num_days+Class_timings+Location_LHS\n",
    "print(str1)"
   ]
  },
  {
   "cell_type": "code",
   "execution_count": 50,
   "metadata": {},
   "outputs": [
    {
     "name": "stdout",
     "output_type": "stream",
     "text": [
      "Hello World!\n",
      "H\n",
      "llo W\n",
      "llo World!\n",
      "Hello World!Hello World!\n",
      "Hello World! TEST\n",
      "!\n",
      "ld!\n"
     ]
    }
   ],
   "source": [
    "str = 'Hello World!'\n",
    "\n",
    "a = str\n",
    "b = str[0]\n",
    "c = str[2:7]\n",
    "d = str[2:]\n",
    "e = str * 2\n",
    "f = str + \" \" + \"TEST\"\n",
    "g = str[-1]\n",
    "h = str[-3:]\n",
    "print(a)          # Prints complete string\n",
    "print(b)       # Prints first character of the string\n",
    "print(c)     # Prints characters starting from 3rd to 5th\n",
    "print(d)      # Prints string starting from 3rd character\n",
    "print(e)      # Prints string two times\n",
    "print(f) # Prints concatenated string\n",
    "print(g)\n",
    "print(h)"
   ]
  },
  {
   "cell_type": "markdown",
   "metadata": {},
   "source": [
    "### --- Exercise 3 \n",
    "### print first two characters of first_name and last two characters of last_name"
   ]
  },
  {
   "cell_type": "code",
   "execution_count": 23,
   "metadata": {},
   "outputs": [
    {
     "name": "stdout",
     "output_type": "stream",
     "text": [
      "Yosh Kashima\n",
      "Yosh Kashima\n",
      "Yosh Kashima\n"
     ]
    }
   ],
   "source": [
    "# Exercise 3 - write code in this cell \n",
    "# You want to extract first letter from first_name, middle_name, and last_name\n",
    "print(first_name, last_name)\n",
    "print(first_name+\" \"+last_name)\n",
    "str = first_name+\" \"+last_name\n",
    "print(str)\n"
   ]
  },
  {
   "cell_type": "code",
   "execution_count": 61,
   "metadata": {},
   "outputs": [
    {
     "name": "stdout",
     "output_type": "stream",
     "text": [
      "['abcd', 786, 2.23, 'john', 70.2]\n",
      "abcd\n",
      "[786, 2.23]\n",
      "[2.23, 'john', 70.2]\n"
     ]
    }
   ],
   "source": [
    "###########################################################\n",
    "## Python Lists\n",
    "###########################################################\n",
    "list = [ 'abcd', 786 , 2.23, 'john', 70.2 ]\n",
    "\n",
    "print(list)          # Prints complete list\n",
    "print(list[0])       # Prints first element of the list\n",
    "print(list[1:3])     # Prints elements starting from 2nd till 3rd \n",
    "print(list[-3:])"
   ]
  },
  {
   "cell_type": "markdown",
   "metadata": {},
   "source": [
    "## Exercise 4 -- Lists\n",
    "## Define a new Python list \"new_list\" and initialize it with \"1\",\"A\",\"2\",\"B\",\"3\",\"C\"\n",
    "## Print values with alternate indices 0,2,4 and 1,3,5"
   ]
  },
  {
   "cell_type": "code",
   "execution_count": 20,
   "metadata": {},
   "outputs": [
    {
     "name": "stdout",
     "output_type": "stream",
     "text": [
      "['1', 'A', '2', 'B', '3', 'C']\n",
      "len = 6\n",
      "ABC\n",
      "['A', 'B', 'C']\n",
      "123\n",
      "['1', '2', '3']\n"
     ]
    }
   ],
   "source": [
    "## Write code for Exercise 4 in this cell\n",
    "new_list = [\"1\",\"A\",\"2\",\"B\",\"3\",\"C\"]\n",
    "print (new_list)\n",
    "# print(new_list[0])\n",
    "# print(new_list[2])\n",
    "# print(new_list[4])\n",
    "x = len(new_list)\n",
    "print (\"len =\", x)\n",
    "# Using for loop with no new line feed\n",
    "for i in range (1, x, 2):\n",
    "    print(new_list[i], end=\"\")\n",
    "print ()\n",
    "#Using the slice command of list[]\n",
    "print (new_list[1::2])\n",
    "#Using for loop with no new line feed\n",
    "for i in range (0, x, 2):\n",
    "    print(new_list[i], end=\"\")\n",
    "print()\n",
    "#Using the slicing command for list[]\n",
    "print(new_list[0::2])\n",
    "# print(new_list[0:3])\n",
    "# print(new_list[1])\n",
    "# print(new_list[3])\n",
    "# print(new_list[5])\n",
    "# print(new_list[1:5:2])\n"
   ]
  },
  {
   "cell_type": "code",
   "execution_count": 66,
   "metadata": {},
   "outputs": [
    {
     "name": "stdout",
     "output_type": "stream",
     "text": [
      "('abcde', 786, 2.23, 'john', 70.2)\n",
      "abcde\n",
      "(786, 2.23)\n",
      "aaaaa\n"
     ]
    }
   ],
   "source": [
    "###########################################################\n",
    "## Python Tuples\n",
    "###########################################################\n",
    "tuple = ('abcd', 786 , 2.23, 'john', 70.2 )\n",
    "tuple = ('abcde', 786 , 2.23, 'john', 70.2 )\n",
    "print(tuple)          # Prints complete list\n",
    "print(tuple[0])       # Prints first element of the list\n",
    "print(tuple[1:3])     # Prints elements starting from 2nd till 3rd \n",
    "var1 = \"jshjah\"\n",
    "var1 = \"aaaaa\"\n",
    "print(var1)"
   ]
  },
  {
   "cell_type": "code",
   "execution_count": 109,
   "metadata": {},
   "outputs": [
    {
     "name": "stdout",
     "output_type": "stream",
     "text": [
      "4 - Got a false expression value\n",
      "150000\n"
     ]
    }
   ],
   "source": [
    "## Decisions in Python\n",
    "var = 150000\n",
    "if var == 2000:\n",
    "   print(\"1 - Got a true expression value\")\n",
    "   print(var)\n",
    "elif var == 150:\n",
    "   print(\"2 - Got a true expression value\")\n",
    "   print(var)\n",
    "elif var == 100:\n",
    "   print(\"3 - Got a true expression value\")\n",
    "   print(var)\n",
    "elif var == \"Sunnyvale\":\n",
    "    print(\"var is Sunnyvale\")\n",
    "else:\n",
    "   print(\"4 - Got a false expression value\")\n",
    "   print(var)"
   ]
  },
  {
   "cell_type": "markdown",
   "metadata": {},
   "source": [
    "### Exercise 5 - if .. elif .. else\n",
    "### Initialize string state_name to be \"California\" or \"Texas\"\n",
    "### write if ... elif ... else checking state_name \n",
    "### to print if state_name is Golden State or Lone Star state\n",
    "### default else to printing \"Not Golden State or Lone Star state\" "
   ]
  },
  {
   "cell_type": "code",
   "execution_count": 24,
   "metadata": {},
   "outputs": [
    {
     "name": "stdout",
     "output_type": "stream",
     "text": [
      "Golden State\n"
     ]
    }
   ],
   "source": [
    "# Write code for Exercise 5 in this box\n",
    "nameOfState = \"California\"\n",
    "# nameOfState = \"Texas\"\n",
    "# nameOfState = \"Arizona\"\n",
    "if nameOfState == \"California\":\n",
    "    print(\"Golden State\")\n",
    "elif nameOfState == \"Texas\":\n",
    "    print(\"Lone Star state\")\n",
    "else:\n",
    "    print(\"Not Golden State or Lone Star state\")\n"
   ]
  },
  {
   "cell_type": "code",
   "execution_count": 111,
   "metadata": {},
   "outputs": [
    {
     "name": "stdout",
     "output_type": "stream",
     "text": [
      "The count is: 0\n",
      "The count is: 1\n",
      "The count is: 2\n",
      "The count is: 3\n",
      "The count is: 4\n",
      "The count is: 5\n",
      "The count is: 6\n",
      "The count is: 7\n",
      "The count is: 8\n",
      "Current Letter : P\n",
      "Current Letter : y\n",
      "Current Letter : t\n",
      "Current Letter : h\n",
      "Current Letter : o\n",
      "Current Letter : n\n",
      "Current fruit : banana\n",
      "Current fruit : apple\n",
      "Current fruit : mango\n",
      "['tesla', 'toyota', 'honda']\n"
     ]
    }
   ],
   "source": [
    "## For and while Loops\n",
    "## while loop\n",
    "count = 0\n",
    "while (count < 9):\n",
    "   print('The count is:', count)\n",
    "   count += 1\n",
    "\n",
    "## for loop\n",
    "for letter in 'Python':     # First Example\n",
    "   print('Current Letter :', letter)\n",
    "\n",
    "fruits = ['banana', 'apple',  'mango']\n",
    "for fruit in fruits:        # Second Example\n",
    "   print('Current fruit :', fruit)\n",
    "\n",
    "cars = [\"honda\",\"toyota\",\"tesla\"]\n",
    "cars.reverse()\n",
    "print(cars)"
   ]
  },
  {
   "cell_type": "markdown",
   "metadata": {},
   "source": [
    "### Exercise 6 -- print fruits in reverse order\n",
    "### mango\n",
    "### apple\n",
    "### banana"
   ]
  },
  {
   "cell_type": "code",
   "execution_count": 26,
   "metadata": {},
   "outputs": [
    {
     "name": "stdout",
     "output_type": "stream",
     "text": [
      "['banana', 'apple', 'mango']\n",
      "['mango', 'apple', 'banana']\n"
     ]
    }
   ],
   "source": [
    "# Write code for Exercise 6 in this cell\n",
    "fruits = ['banana', 'apple',  'mango']\n",
    "print (fruits)\n",
    "fruits.reverse()\n",
    "print(fruits)"
   ]
  },
  {
   "cell_type": "code",
   "execution_count": 113,
   "metadata": {},
   "outputs": [
    {
     "name": "stdout",
     "output_type": "stream",
     "text": [
      "Cats\n",
      "smarter\n",
      "dogs\n"
     ]
    }
   ],
   "source": [
    "## Regular expressions\n",
    "import re\n",
    "\n",
    "line = \"Cats are smarter than dogs\"\n",
    "\n",
    "## Matching using re\n",
    "matchObj = re.match('(.*) are (.*) than (.*)',line,re.M|re.I)\n",
    "\n",
    "print(matchObj.group(1))\n",
    "print(matchObj.group(2))\n",
    "print(matchObj.group(3))"
   ]
  },
  {
   "cell_type": "code",
   "execution_count": 114,
   "metadata": {},
   "outputs": [
    {
     "name": "stdout",
     "output_type": "stream",
     "text": [
      "Phone Num :  4002-959-559 # This is Phone Number\n"
     ]
    }
   ],
   "source": [
    "## search and replace\n",
    "phone = \"2004-959-559 # This is Phone Number\"\n",
    "\n",
    "# make 2004 to be 4002\n",
    "num = re.sub(\"2004\",\"4002\", phone) # this is comment   \n",
    "print(\"Phone Num : \", num)"
   ]
  },
  {
   "cell_type": "code",
   "execution_count": 115,
   "metadata": {},
   "outputs": [
    {
     "name": "stdout",
     "output_type": "stream",
     "text": [
      "14\n",
      "15\n",
      "14\n",
      "110\n"
     ]
    }
   ],
   "source": [
    "## Functions in Python\n",
    "def add_numbers(a=5,b=10):\n",
    "    c = a + b\n",
    "    return c\n",
    "\n",
    "result = add_numbers(2,12)\n",
    "print(result)\n",
    "result = add_numbers()\n",
    "print(result)\n",
    "result = add_numbers(2,12)\n",
    "print(result)\n",
    "result = add_numbers(100)\n",
    "print(result)"
   ]
  },
  {
   "cell_type": "markdown",
   "metadata": {},
   "source": [
    "### Exercise 7 -- functions -- \n",
    "### write function to find a^2 + b^2 given a and b\n",
    "### def square_and_sum(a,b)\n",
    "###\n",
    "### write function to add strings \n",
    "### def add_strings(str1,str2)\n",
    "### when a = \"Hello\" and b = \"World\", it should return \"Hello World!!!\" with space and !!!. "
   ]
  },
  {
   "cell_type": "code",
   "execution_count": 36,
   "metadata": {},
   "outputs": [
    {
     "name": "stdout",
     "output_type": "stream",
     "text": [
      "125\n"
     ]
    }
   ],
   "source": [
    "# Write code for Exercise 7 in this cell\n",
    "def square_and_sum(a,b):\n",
    "    c = a*a + b*b\n",
    "    return c\n",
    "\n",
    "value = square_and_sum(10, 5)\n",
    "print (value)"
   ]
  },
  {
   "cell_type": "code",
   "execution_count": 39,
   "metadata": {},
   "outputs": [
    {
     "name": "stdout",
     "output_type": "stream",
     "text": [
      "Hello World!!!\n"
     ]
    }
   ],
   "source": [
    "def add_strings(str1,str2):\n",
    "    str3 = str1+\" \" + str2+\"!!!\"\n",
    "    \n",
    "    return str3\n",
    "a = \"Hello\"\n",
    "b = \"World\"\n",
    "str1 = add_strings(a, b)\n",
    "print(str1)\n"
   ]
  },
  {
   "cell_type": "code",
   "execution_count": 117,
   "metadata": {},
   "outputs": [
    {
     "name": "stdout",
     "output_type": "stream",
     "text": [
      "0\n",
      "1\n",
      "2\n",
      "3\n",
      "4\n",
      "5\n",
      "6\n",
      "7\n",
      "8\n",
      "9\n"
     ]
    }
   ],
   "source": [
    "for x in range(10): \n",
    "    print(x)"
   ]
  },
  {
   "cell_type": "code",
   "execution_count": 118,
   "metadata": {},
   "outputs": [
    {
     "name": "stdout",
     "output_type": "stream",
     "text": [
      "1\n",
      "3\n",
      "5\n"
     ]
    }
   ],
   "source": [
    "# range also follows the format range(start_value,stop_value,step_value)\n",
    "for x in range(1,6,2):\n",
    "    print(x)"
   ]
  },
  {
   "cell_type": "markdown",
   "metadata": {},
   "source": [
    "### Exercise 8 -- using range\n",
    "### print numbers 10, 9, 8, ..., 1"
   ]
  },
  {
   "cell_type": "code",
   "execution_count": 30,
   "metadata": {},
   "outputs": [
    {
     "name": "stdout",
     "output_type": "stream",
     "text": [
      "10\n",
      "9\n",
      "8\n",
      "7\n",
      "6\n",
      "5\n",
      "4\n",
      "3\n",
      "2\n",
      "1\n"
     ]
    }
   ],
   "source": [
    "# Write code for Exercise 8 in this cell\n",
    "for x in range(10, 0, -1):\n",
    "    print (x)"
   ]
  },
  {
   "cell_type": "code",
   "execution_count": 27,
   "metadata": {},
   "outputs": [
    {
     "name": "stdout",
     "output_type": "stream",
     "text": [
      "[1, 11, 111]\n",
      "list1-a = [1, 11, 111, 1111]\n",
      "list1-b = [1, 11, 111, 1111, 2, 22, 222]\n",
      "list1-c = [1, 11, 111, 1111, 2, 22]\n",
      "list1-d = [1, 2, 11, 22, 111, 1111]\n",
      "list1-e = [1111, 111, 22, 11, 2, 1]\n"
     ]
    }
   ],
   "source": [
    "## Appending and extending Python lists\n",
    "list1 = [1,11,111]\n",
    "list2 = [2,22,222]\n",
    "\n",
    "print(list1)\n",
    "\n",
    "list1.append(1111)\n",
    "print(\"list1-a = %s\" % list1)\n",
    "\n",
    "list1.extend(list2)\n",
    "print(\"list1-b = %s\" % list1)\n",
    "\n",
    "list1.remove(222)\n",
    "print(\"list1-c = %s\" % list1)\n",
    "\n",
    "list1.sort()\n",
    "print(\"list1-d = %s\" % list1)\n",
    "\n",
    "list1.sort(reverse=True)\n",
    "print(\"list1-e = %s\" % list1)"
   ]
  },
  {
   "cell_type": "markdown",
   "metadata": {},
   "source": [
    "### Exercise 9 -- lists with strings\n",
    "### Initialize states_list with California, Texas, Arizona\n",
    "### step 1: Add Florida\n",
    "### step 2: Remove Texas\n",
    "### step 3: Sort ascending order\n",
    "### step 4: Sort descending order"
   ]
  },
  {
   "cell_type": "code",
   "execution_count": 46,
   "metadata": {},
   "outputs": [
    {
     "name": "stdout",
     "output_type": "stream",
     "text": [
      "['California', 'Texas', 'Arizona', 'Florida']\n",
      "['California', 'Arizona', 'Florida']\n",
      "['Arizona', 'California', 'Florida']\n",
      "['Florida', 'California', 'Arizona']\n",
      "['Florida', 'California', 'Arizona']\n"
     ]
    }
   ],
   "source": [
    "# Write code for Exercise 9 in this cell\n",
    "states_list = [\"California\", \"Texas\", \"Arizona\"]\n",
    "states_list.append(\"Florida\")\n",
    "print(states_list)\n",
    "states_list.remove(\"Texas\")\n",
    "print(states_list)\n",
    "states_list.sort()\n",
    "print(states_list)\n",
    "states_list.reverse()\n",
    "print(states_list)\n",
    "states_list.sort(reverse=True)\n",
    "print(states_list)"
   ]
  },
  {
   "cell_type": "code",
   "execution_count": 122,
   "metadata": {},
   "outputs": [
    {
     "name": "stdout",
     "output_type": "stream",
     "text": [
      "2.5\n",
      "2.5\n",
      "2\n",
      "2.0\n"
     ]
    }
   ],
   "source": [
    "## Integer and floating division\n",
    "def div1(x,y):\n",
    "    print(x/y)\n",
    "    \n",
    "def div2(x,y):\n",
    "    print(x//y) # integer division\n",
    "\n",
    "div1(5,2)\n",
    "div1(5.,2)\n",
    "div2(5,2)\n",
    "div2(5.,2.)"
   ]
  },
  {
   "cell_type": "code",
   "execution_count": 123,
   "metadata": {},
   "outputs": [
    {
     "name": "stdout",
     "output_type": "stream",
     "text": [
      "2\n"
     ]
    }
   ],
   "source": [
    "rem = 10 % 4\n",
    "print(rem)"
   ]
  },
  {
   "cell_type": "code",
   "execution_count": 124,
   "metadata": {},
   "outputs": [
    {
     "name": "stdout",
     "output_type": "stream",
     "text": [
      "5\n",
      "2\n",
      "4\n",
      "2\n"
     ]
    }
   ],
   "source": [
    "import numpy as np\n",
    "# Printing list length\n",
    "list = ['a', 'b', 'c', 'd', 'e']\n",
    "print(len(list))\n",
    "lista = [[1,2,3,4],[3,4]]\n",
    "print(lista[0][1])\n",
    "print(len(lista[0]))\n",
    "sizea = np.size(lista)\n",
    "print(sizea)"
   ]
  },
  {
   "cell_type": "code",
   "execution_count": 125,
   "metadata": {},
   "outputs": [
    {
     "name": "stdout",
     "output_type": "stream",
     "text": [
      "1-- 1\n",
      "2-- -1\n",
      "3-- 1\n",
      "4-- 7\n",
      "zz liforni\n"
     ]
    }
   ],
   "source": [
    "state_name = \"California\"\n",
    "find_str = state_name.find(\"a\")\n",
    "print(\"1--\",find_str)\n",
    "\n",
    "find_str = state_name.find(\"z\")\n",
    "print(\"2--\",find_str)\n",
    "\n",
    "count_str = state_name.count(\"a\",0,4)\n",
    "print(\"3--\",count_str)\n",
    "\n",
    "find_str = state_name.find(\"nia\")\n",
    "print(\"4--\",find_str)\n",
    "\n",
    "print(\"zz\",state_name[2:state_name.find(\"z\")])"
   ]
  },
  {
   "cell_type": "markdown",
   "metadata": {},
   "source": [
    "### Exercise 10 -- find, count --- define the string Albert_Einstein\n",
    "### Albert_Einstein = \"Life is like riding a bicycle. To keep your balance you must keep moving.\"\n",
    "### Find number of occurences for: you, ing, life (all case sensitive)"
   ]
  },
  {
   "cell_type": "code",
   "execution_count": 52,
   "metadata": {},
   "outputs": [
    {
     "name": "stdout",
     "output_type": "stream",
     "text": [
      "2\n",
      "2\n",
      "0\n",
      "1\n"
     ]
    }
   ],
   "source": [
    "# Write code for Wxercise 10 in this cell\n",
    "Albert_Einstein = \"Life is like riding a bicycle. To keep your balance you must keep moving.\"\n",
    "find_str = Albert_Einstein.count(\"you\")\n",
    "print(find_str)\n",
    "find_str = Albert_Einstein.count(\"ing\")\n",
    "print(find_str)\n",
    "find_str = Albert_Einstein.count(\"life\")\n",
    "print(find_str)\n",
    "find_str = Albert_Einstein.count(\"Life\")\n",
    "print(find_str)"
   ]
  },
  {
   "cell_type": "code",
   "execution_count": 127,
   "metadata": {},
   "outputs": [
    {
     "name": "stdout",
     "output_type": "stream",
     "text": [
      "['This', 'is', 'Learning', 'Center', 'in', 'in', 'Sunnyvale']\n",
      "This is Learning Center in in Sunnyvale\n",
      "{'This': 0, 'is': 0, 'Learning': 0, 'Center': 0, 'in': 0, 'Sunnyvale': 0}\n",
      "{'This': 1, 'is': 1, 'Learning': 1, 'Center': 1, 'in': 2, 'Sunnyvale': 1}\n"
     ]
    }
   ],
   "source": [
    "# Splitting strings\n",
    "ss = \"This is Learning Center in in Sunnyvale\"\n",
    "\n",
    "words = ss.split()\n",
    "print(words)\n",
    "\n",
    "ss1 = \" \".join(words)\n",
    "print(ss1)\n",
    "\n",
    "# d = {}\n",
    "# Dictionaries\n",
    "d = {}.fromkeys(words,0)\n",
    "print(d)\n",
    "for w in words:\n",
    "    d[w] += 1\n",
    "print(d)"
   ]
  },
  {
   "cell_type": "code",
   "execution_count": 37,
   "metadata": {},
   "outputs": [],
   "source": [
    "## Reading csv files\n",
    "def read_file(filename):\n",
    "    file_open = open(filename,\"r\")\n",
    "    data_array = []\n",
    "    for line in iter(file_open):\n",
    "        line_no_newline = line.rstrip() # no new line \n",
    "        line_split = line_no_newline.split(\",\")\n",
    "        fn = line_split[0]\n",
    "        work = line_split[2]\n",
    "        concat = [fn,work]\n",
    "        data_array.append(concat)\n",
    "    return data_array"
   ]
  },
  {
   "cell_type": "code",
   "execution_count": 38,
   "metadata": {},
   "outputs": [
    {
     "name": "stdout",
     "output_type": "stream",
     "text": [
      "[['jack', 'engineer'], ['emily', 'lawyer'], ['zen', 'school_a'], ['liz', 'school_b']]\n"
     ]
    }
   ],
   "source": [
    "array1 = read_file(\"family.csv\")\n",
    "print(array1)"
   ]
  },
  {
   "cell_type": "code",
   "execution_count": 39,
   "metadata": {},
   "outputs": [
    {
     "name": "stdout",
     "output_type": "stream",
     "text": [
      "    name      work\n",
      "0   jack  engineer\n",
      "1  emily    lawyer\n",
      "2    zen  school_a\n",
      "3    liz  school_b\n"
     ]
    }
   ],
   "source": [
    "import pandas as pd\n",
    "family_header=[\"name\",\"work\"]\n",
    "df = pd.DataFrame(array1,columns=family_header)\n",
    "print(df)"
   ]
  },
  {
   "cell_type": "code",
   "execution_count": 131,
   "metadata": {},
   "outputs": [],
   "source": [
    "# Regression example in Machine Learning"
   ]
  },
  {
   "cell_type": "code",
   "execution_count": 40,
   "metadata": {},
   "outputs": [],
   "source": [
    "import matplotlib.pyplot as plt\n",
    "import sklearn\n",
    "%matplotlib inline"
   ]
  },
  {
   "cell_type": "code",
   "execution_count": 41,
   "metadata": {},
   "outputs": [],
   "source": [
    "import pandas as pd\n",
    "df = pd.read_csv(\"SoSJ_housing_data.csv\")"
   ]
  },
  {
   "cell_type": "code",
   "execution_count": 42,
   "metadata": {},
   "outputs": [
    {
     "data": {
      "text/html": [
       "<div>\n",
       "<style scoped>\n",
       "    .dataframe tbody tr th:only-of-type {\n",
       "        vertical-align: middle;\n",
       "    }\n",
       "\n",
       "    .dataframe tbody tr th {\n",
       "        vertical-align: top;\n",
       "    }\n",
       "\n",
       "    .dataframe thead th {\n",
       "        text-align: right;\n",
       "    }\n",
       "</style>\n",
       "<table border=\"1\" class=\"dataframe\">\n",
       "  <thead>\n",
       "    <tr style=\"text-align: right;\">\n",
       "      <th></th>\n",
       "      <th>HomeAge</th>\n",
       "      <th>HomeSqft</th>\n",
       "      <th>LotSize</th>\n",
       "      <th>BedRooms</th>\n",
       "      <th>HighSchoolAPI</th>\n",
       "      <th>ProxFwy</th>\n",
       "      <th>CarGarage</th>\n",
       "      <th>HomePriceK</th>\n",
       "    </tr>\n",
       "  </thead>\n",
       "  <tbody>\n",
       "    <tr>\n",
       "      <th>0</th>\n",
       "      <td>14</td>\n",
       "      <td>1617</td>\n",
       "      <td>8394</td>\n",
       "      <td>2</td>\n",
       "      <td>851</td>\n",
       "      <td>2</td>\n",
       "      <td>0</td>\n",
       "      <td>1138</td>\n",
       "    </tr>\n",
       "    <tr>\n",
       "      <th>1</th>\n",
       "      <td>13</td>\n",
       "      <td>1358</td>\n",
       "      <td>6819</td>\n",
       "      <td>2</td>\n",
       "      <td>851</td>\n",
       "      <td>3</td>\n",
       "      <td>2</td>\n",
       "      <td>859</td>\n",
       "    </tr>\n",
       "    <tr>\n",
       "      <th>2</th>\n",
       "      <td>22</td>\n",
       "      <td>1724</td>\n",
       "      <td>7339</td>\n",
       "      <td>3</td>\n",
       "      <td>975</td>\n",
       "      <td>3</td>\n",
       "      <td>3</td>\n",
       "      <td>1038</td>\n",
       "    </tr>\n",
       "    <tr>\n",
       "      <th>3</th>\n",
       "      <td>12</td>\n",
       "      <td>1943</td>\n",
       "      <td>7249</td>\n",
       "      <td>2</td>\n",
       "      <td>974</td>\n",
       "      <td>2</td>\n",
       "      <td>0</td>\n",
       "      <td>1030</td>\n",
       "    </tr>\n",
       "    <tr>\n",
       "      <th>4</th>\n",
       "      <td>13</td>\n",
       "      <td>1836</td>\n",
       "      <td>7027</td>\n",
       "      <td>2</td>\n",
       "      <td>966</td>\n",
       "      <td>3</td>\n",
       "      <td>3</td>\n",
       "      <td>914</td>\n",
       "    </tr>\n",
       "  </tbody>\n",
       "</table>\n",
       "</div>"
      ],
      "text/plain": [
       "   HomeAge  HomeSqft  LotSize  BedRooms  HighSchoolAPI  ProxFwy  CarGarage  \\\n",
       "0       14      1617     8394         2            851        2          0   \n",
       "1       13      1358     6819         2            851        3          2   \n",
       "2       22      1724     7339         3            975        3          3   \n",
       "3       12      1943     7249         2            974        2          0   \n",
       "4       13      1836     7027         2            966        3          3   \n",
       "\n",
       "   HomePriceK  \n",
       "0        1138  \n",
       "1         859  \n",
       "2        1038  \n",
       "3        1030  \n",
       "4         914  "
      ]
     },
     "execution_count": 42,
     "metadata": {},
     "output_type": "execute_result"
    }
   ],
   "source": [
    "df.head()"
   ]
  },
  {
   "cell_type": "code",
   "execution_count": 135,
   "metadata": {},
   "outputs": [
    {
     "data": {
      "text/html": [
       "<div>\n",
       "<style scoped>\n",
       "    .dataframe tbody tr th:only-of-type {\n",
       "        vertical-align: middle;\n",
       "    }\n",
       "\n",
       "    .dataframe tbody tr th {\n",
       "        vertical-align: top;\n",
       "    }\n",
       "\n",
       "    .dataframe thead th {\n",
       "        text-align: right;\n",
       "    }\n",
       "</style>\n",
       "<table border=\"1\" class=\"dataframe\">\n",
       "  <thead>\n",
       "    <tr style=\"text-align: right;\">\n",
       "      <th></th>\n",
       "      <th>HomeAge</th>\n",
       "      <th>HomeSqft</th>\n",
       "      <th>LotSize</th>\n",
       "      <th>BedRooms</th>\n",
       "      <th>HighSchoolAPI</th>\n",
       "      <th>ProxFwy</th>\n",
       "      <th>CarGarage</th>\n",
       "      <th>HomePriceK</th>\n",
       "    </tr>\n",
       "  </thead>\n",
       "  <tbody>\n",
       "    <tr>\n",
       "      <th>95</th>\n",
       "      <td>18</td>\n",
       "      <td>1866</td>\n",
       "      <td>7181</td>\n",
       "      <td>2</td>\n",
       "      <td>854</td>\n",
       "      <td>2</td>\n",
       "      <td>3</td>\n",
       "      <td>1049</td>\n",
       "    </tr>\n",
       "    <tr>\n",
       "      <th>96</th>\n",
       "      <td>10</td>\n",
       "      <td>1246</td>\n",
       "      <td>6810</td>\n",
       "      <td>2</td>\n",
       "      <td>853</td>\n",
       "      <td>4</td>\n",
       "      <td>3</td>\n",
       "      <td>942</td>\n",
       "    </tr>\n",
       "    <tr>\n",
       "      <th>97</th>\n",
       "      <td>17</td>\n",
       "      <td>1881</td>\n",
       "      <td>8921</td>\n",
       "      <td>3</td>\n",
       "      <td>852</td>\n",
       "      <td>2</td>\n",
       "      <td>0</td>\n",
       "      <td>1194</td>\n",
       "    </tr>\n",
       "    <tr>\n",
       "      <th>98</th>\n",
       "      <td>17</td>\n",
       "      <td>1373</td>\n",
       "      <td>8953</td>\n",
       "      <td>2</td>\n",
       "      <td>851</td>\n",
       "      <td>2</td>\n",
       "      <td>0</td>\n",
       "      <td>1190</td>\n",
       "    </tr>\n",
       "    <tr>\n",
       "      <th>99</th>\n",
       "      <td>15</td>\n",
       "      <td>1828</td>\n",
       "      <td>6956</td>\n",
       "      <td>3</td>\n",
       "      <td>851</td>\n",
       "      <td>4</td>\n",
       "      <td>3</td>\n",
       "      <td>916</td>\n",
       "    </tr>\n",
       "  </tbody>\n",
       "</table>\n",
       "</div>"
      ],
      "text/plain": [
       "    HomeAge  HomeSqft  LotSize  BedRooms  HighSchoolAPI  ProxFwy  CarGarage  \\\n",
       "95       18      1866     7181         2            854        2          3   \n",
       "96       10      1246     6810         2            853        4          3   \n",
       "97       17      1881     8921         3            852        2          0   \n",
       "98       17      1373     8953         2            851        2          0   \n",
       "99       15      1828     6956         3            851        4          3   \n",
       "\n",
       "    HomePriceK  \n",
       "95        1049  \n",
       "96         942  \n",
       "97        1194  \n",
       "98        1190  \n",
       "99         916  "
      ]
     },
     "execution_count": 135,
     "metadata": {},
     "output_type": "execute_result"
    }
   ],
   "source": [
    "df.tail()"
   ]
  },
  {
   "cell_type": "code",
   "execution_count": 35,
   "metadata": {},
   "outputs": [
    {
     "data": {
      "text/plain": [
       "'\\nDataset description\\n1) HomeAge = Age of home in years\\n2) HomeSqft = Square footage of home\\n3) LotSize = LotSize\\n4) BedRooms = Num bedrooms as per county data\\n5) HighSchoolAPI = API for nearest high school\\n6) ProxFwy = Distance in miles to Freeway\\n7) CarGarage = Number of cars in garage; 0 = no garage\\n\\nY) HomePriceK = Home price in $K (Target)\\n\\n7 X Variables; 1 Y variable (Target)\\n\\nData Points = 100\\n'"
      ]
     },
     "execution_count": 35,
     "metadata": {},
     "output_type": "execute_result"
    }
   ],
   "source": [
    "\"\"\"\n",
    "Dataset description\n",
    "1) HomeAge = Age of home in years\n",
    "2) HomeSqft = Square footage of home\n",
    "3) LotSize = LotSize\n",
    "4) BedRooms = Num bedrooms as per county data\n",
    "5) HighSchoolAPI = API for nearest high school\n",
    "6) ProxFwy = Distance in miles to Freeway\n",
    "7) CarGarage = Number of cars in garage; 0 = no garage\n",
    "\n",
    "Y) HomePriceK = Home price in $K (Target)\n",
    "\n",
    "7 X Variables; 1 Y variable (Target)\n",
    "\n",
    "Data Points = 100\n",
    "\"\"\""
   ]
  },
  {
   "cell_type": "code",
   "execution_count": 36,
   "metadata": {},
   "outputs": [
    {
     "ename": "NameError",
     "evalue": "name 'df' is not defined",
     "output_type": "error",
     "traceback": [
      "\u001b[0;31m---------------------------------------------------------------------------\u001b[0m",
      "\u001b[0;31mNameError\u001b[0m                                 Traceback (most recent call last)",
      "\u001b[0;32m<ipython-input-36-ea8415b8a3ee>\u001b[0m in \u001b[0;36m<module>\u001b[0;34m()\u001b[0m\n\u001b[0;32m----> 1\u001b[0;31m \u001b[0mdf\u001b[0m\u001b[0;34m.\u001b[0m\u001b[0mdescribe\u001b[0m\u001b[0;34m(\u001b[0m\u001b[0;34m)\u001b[0m\u001b[0;34m\u001b[0m\u001b[0m\n\u001b[0m",
      "\u001b[0;31mNameError\u001b[0m: name 'df' is not defined"
     ]
    }
   ],
   "source": [
    "df.describe()"
   ]
  },
  {
   "cell_type": "code",
   "execution_count": 32,
   "metadata": {},
   "outputs": [
    {
     "ename": "NameError",
     "evalue": "name 'df' is not defined",
     "output_type": "error",
     "traceback": [
      "\u001b[0;31m---------------------------------------------------------------------------\u001b[0m",
      "\u001b[0;31mNameError\u001b[0m                                 Traceback (most recent call last)",
      "\u001b[0;32m<ipython-input-32-442b20d4f6ae>\u001b[0m in \u001b[0;36m<module>\u001b[0;34m()\u001b[0m\n\u001b[0;32m----> 1\u001b[0;31m \u001b[0mX\u001b[0m \u001b[0;34m=\u001b[0m \u001b[0mdf\u001b[0m\u001b[0;34m.\u001b[0m\u001b[0mdrop\u001b[0m\u001b[0;34m(\u001b[0m\u001b[0;34m'HomePriceK'\u001b[0m\u001b[0;34m,\u001b[0m\u001b[0maxis\u001b[0m\u001b[0;34m=\u001b[0m\u001b[0;36m1\u001b[0m\u001b[0;34m)\u001b[0m\u001b[0;34m\u001b[0m\u001b[0m\n\u001b[0m\u001b[1;32m      2\u001b[0m \u001b[0mX\u001b[0m\u001b[0;34m.\u001b[0m\u001b[0mhead\u001b[0m\u001b[0;34m(\u001b[0m\u001b[0;36m2\u001b[0m\u001b[0;34m)\u001b[0m\u001b[0;34m\u001b[0m\u001b[0m\n",
      "\u001b[0;31mNameError\u001b[0m: name 'df' is not defined"
     ]
    }
   ],
   "source": [
    "X = df.drop('HomePriceK',axis=1)\n",
    "X.head(2)"
   ]
  },
  {
   "cell_type": "code",
   "execution_count": 33,
   "metadata": {},
   "outputs": [
    {
     "ename": "NameError",
     "evalue": "name 'X' is not defined",
     "output_type": "error",
     "traceback": [
      "\u001b[0;31m---------------------------------------------------------------------------\u001b[0m",
      "\u001b[0;31mNameError\u001b[0m                                 Traceback (most recent call last)",
      "\u001b[0;32m<ipython-input-33-37fbc7531b96>\u001b[0m in \u001b[0;36m<module>\u001b[0;34m()\u001b[0m\n\u001b[1;32m      1\u001b[0m \u001b[0;32mfrom\u001b[0m \u001b[0msklearn\u001b[0m\u001b[0;34m.\u001b[0m\u001b[0mlinear_model\u001b[0m \u001b[0;32mimport\u001b[0m \u001b[0mLinearRegression\u001b[0m\u001b[0;34m\u001b[0m\u001b[0m\n\u001b[1;32m      2\u001b[0m \u001b[0mlm\u001b[0m \u001b[0;34m=\u001b[0m \u001b[0mLinearRegression\u001b[0m\u001b[0;34m(\u001b[0m\u001b[0;34m)\u001b[0m\u001b[0;34m\u001b[0m\u001b[0m\n\u001b[0;32m----> 3\u001b[0;31m \u001b[0mlm\u001b[0m\u001b[0;34m.\u001b[0m\u001b[0mfit\u001b[0m\u001b[0;34m(\u001b[0m\u001b[0mX\u001b[0m\u001b[0;34m,\u001b[0m\u001b[0mdf\u001b[0m\u001b[0;34m.\u001b[0m\u001b[0mHomePriceK\u001b[0m\u001b[0;34m)\u001b[0m\u001b[0;34m\u001b[0m\u001b[0m\n\u001b[0m\u001b[1;32m      4\u001b[0m \u001b[0mprint\u001b[0m\u001b[0;34m(\u001b[0m\u001b[0mlm\u001b[0m\u001b[0;34m.\u001b[0m\u001b[0mintercept_\u001b[0m\u001b[0;34m)\u001b[0m\u001b[0;34m\u001b[0m\u001b[0m\n\u001b[1;32m      5\u001b[0m \u001b[0mprint\u001b[0m\u001b[0;34m(\u001b[0m\u001b[0mlm\u001b[0m\u001b[0;34m.\u001b[0m\u001b[0mcoef_\u001b[0m\u001b[0;34m)\u001b[0m\u001b[0;34m\u001b[0m\u001b[0m\n",
      "\u001b[0;31mNameError\u001b[0m: name 'X' is not defined"
     ]
    }
   ],
   "source": [
    "from sklearn.linear_model import LinearRegression\n",
    "lm = LinearRegression()\n",
    "lm.fit(X,df.HomePriceK)\n",
    "print(lm.intercept_)\n",
    "print(lm.coef_)\n",
    "print (\"Number of coefficients is \",len(lm.coef_))"
   ]
  },
  {
   "cell_type": "code",
   "execution_count": null,
   "metadata": {},
   "outputs": [],
   "source": [
    "print(X[0:5])"
   ]
  },
  {
   "cell_type": "code",
   "execution_count": null,
   "metadata": {},
   "outputs": [],
   "source": [
    "lm.predict(X)[0:5]"
   ]
  },
  {
   "cell_type": "code",
   "execution_count": 34,
   "metadata": {},
   "outputs": [
    {
     "ename": "NameError",
     "evalue": "name 'plt' is not defined",
     "output_type": "error",
     "traceback": [
      "\u001b[0;31m---------------------------------------------------------------------------\u001b[0m",
      "\u001b[0;31mNameError\u001b[0m                                 Traceback (most recent call last)",
      "\u001b[0;32m<ipython-input-34-05c1149f9fc3>\u001b[0m in \u001b[0;36m<module>\u001b[0;34m()\u001b[0m\n\u001b[0;32m----> 1\u001b[0;31m \u001b[0mplt\u001b[0m\u001b[0;34m.\u001b[0m\u001b[0mscatter\u001b[0m\u001b[0;34m(\u001b[0m\u001b[0mdf\u001b[0m\u001b[0;34m.\u001b[0m\u001b[0mHomePriceK\u001b[0m\u001b[0;34m,\u001b[0m\u001b[0mlm\u001b[0m\u001b[0;34m.\u001b[0m\u001b[0mpredict\u001b[0m\u001b[0;34m(\u001b[0m\u001b[0mX\u001b[0m\u001b[0;34m)\u001b[0m\u001b[0;34m)\u001b[0m\u001b[0;34m\u001b[0m\u001b[0m\n\u001b[0m\u001b[1;32m      2\u001b[0m \u001b[0mplt\u001b[0m\u001b[0;34m.\u001b[0m\u001b[0mxlabel\u001b[0m\u001b[0;34m(\u001b[0m\u001b[0;34m\"Actual Prices\"\u001b[0m\u001b[0;34m)\u001b[0m\u001b[0;34m\u001b[0m\u001b[0m\n\u001b[1;32m      3\u001b[0m \u001b[0mplt\u001b[0m\u001b[0;34m.\u001b[0m\u001b[0mylabel\u001b[0m\u001b[0;34m(\u001b[0m\u001b[0;34m\"Predicted Prices\"\u001b[0m\u001b[0;34m)\u001b[0m\u001b[0;34m\u001b[0m\u001b[0m\n",
      "\u001b[0;31mNameError\u001b[0m: name 'plt' is not defined"
     ]
    }
   ],
   "source": [
    "plt.scatter(df.HomePriceK,lm.predict(X))\n",
    "plt.xlabel(\"Actual Prices\")\n",
    "plt.ylabel(\"Predicted Prices\")"
   ]
  },
  {
   "cell_type": "code",
   "execution_count": 142,
   "metadata": {},
   "outputs": [
    {
     "name": "stdout",
     "output_type": "stream",
     "text": [
      "38.43327976784298\n"
     ]
    }
   ],
   "source": [
    "import math\n",
    "mseFull = math.sqrt(np.mean((df.HomePriceK - lm.predict(X)) ** 2))\n",
    "print(mseFull)"
   ]
  },
  {
   "cell_type": "code",
   "execution_count": 143,
   "metadata": {},
   "outputs": [
    {
     "data": {
      "text/html": [
       "<div>\n",
       "<style scoped>\n",
       "    .dataframe tbody tr th:only-of-type {\n",
       "        vertical-align: middle;\n",
       "    }\n",
       "\n",
       "    .dataframe tbody tr th {\n",
       "        vertical-align: top;\n",
       "    }\n",
       "\n",
       "    .dataframe thead th {\n",
       "        text-align: right;\n",
       "    }\n",
       "</style>\n",
       "<table border=\"1\" class=\"dataframe\">\n",
       "  <thead>\n",
       "    <tr style=\"text-align: right;\">\n",
       "      <th></th>\n",
       "      <th>HomeAge</th>\n",
       "      <th>HomeSqft</th>\n",
       "      <th>LotSize</th>\n",
       "      <th>BedRooms</th>\n",
       "      <th>HighSchoolAPI</th>\n",
       "      <th>ProxFwy</th>\n",
       "      <th>CarGarage</th>\n",
       "    </tr>\n",
       "  </thead>\n",
       "  <tbody>\n",
       "    <tr>\n",
       "      <th>0</th>\n",
       "      <td>14</td>\n",
       "      <td>1617</td>\n",
       "      <td>8394</td>\n",
       "      <td>2</td>\n",
       "      <td>851</td>\n",
       "      <td>2</td>\n",
       "      <td>0</td>\n",
       "    </tr>\n",
       "    <tr>\n",
       "      <th>1</th>\n",
       "      <td>13</td>\n",
       "      <td>1358</td>\n",
       "      <td>6819</td>\n",
       "      <td>2</td>\n",
       "      <td>851</td>\n",
       "      <td>3</td>\n",
       "      <td>2</td>\n",
       "    </tr>\n",
       "  </tbody>\n",
       "</table>\n",
       "</div>"
      ],
      "text/plain": [
       "   HomeAge  HomeSqft  LotSize  BedRooms  HighSchoolAPI  ProxFwy  CarGarage\n",
       "0       14      1617     8394         2            851        2          0\n",
       "1       13      1358     6819         2            851        3          2"
      ]
     },
     "execution_count": 143,
     "metadata": {},
     "output_type": "execute_result"
    }
   ],
   "source": [
    "X[0:2] ## first two data rows"
   ]
  },
  {
   "cell_type": "code",
   "execution_count": 144,
   "metadata": {},
   "outputs": [
    {
     "name": "stdout",
     "output_type": "stream",
     "text": [
      "0    1138\n",
      "1     859\n",
      "Name: HomePriceK, dtype: int64\n"
     ]
    }
   ],
   "source": [
    "print(df.HomePriceK[0:2])"
   ]
  },
  {
   "cell_type": "code",
   "execution_count": 145,
   "metadata": {},
   "outputs": [
    {
     "data": {
      "text/plain": [
       "array([1166.79814669,  938.02621945])"
      ]
     },
     "execution_count": 145,
     "metadata": {},
     "output_type": "execute_result"
    }
   ],
   "source": [
    "row_1 = [14,1617,8394,2,851,2,0]\n",
    "row_2 = [13,1358,6819,2,851,3,2]\n",
    "tests = [row_1,row_2]\n",
    "lm.predict(tests)"
   ]
  },
  {
   "cell_type": "code",
   "execution_count": 146,
   "metadata": {},
   "outputs": [
    {
     "data": {
      "text/plain": [
       "[<matplotlib.lines.Line2D at 0x24ea19eed68>]"
      ]
     },
     "execution_count": 146,
     "metadata": {},
     "output_type": "execute_result"
    },
    {
     "data": {
      "image/png": "[encoded data removed]",
      "text/plain": [
       "<Figure size 432x288 with 1 Axes>"
      ]
     },
     "metadata": {},
     "output_type": "display_data"
    }
   ],
   "source": [
    "plt.plot(df.HomePriceK)"
   ]
  },
  {
   "cell_type": "code",
   "execution_count": 147,
   "metadata": {},
   "outputs": [
    {
     "data": {
      "text/plain": [
       "<matplotlib.collections.PathCollection at 0x24ea1a4a710>"
      ]
     },
     "execution_count": 147,
     "metadata": {},
     "output_type": "execute_result"
    },
    {
     "data": {
      "image/png": "[encoded data removed]",
      "text/plain": [
       "<Figure size 432x288 with 1 Axes>"
      ]
     },
     "metadata": {},
     "output_type": "display_data"
    }
   ],
   "source": [
    "plt.title(\"LotSize and Price\") \n",
    "plt.xlabel(\"LotSize\") \n",
    "plt.ylabel(\"HomePriceK\") \n",
    "plt.scatter(df['LotSize'],df['HomePriceK'])"
   ]
  },
  {
   "cell_type": "code",
   "execution_count": 148,
   "metadata": {},
   "outputs": [
    {
     "data": {
      "text/plain": [
       "<matplotlib.collections.PathCollection at 0x24ea1aab208>"
      ]
     },
     "execution_count": 148,
     "metadata": {},
     "output_type": "execute_result"
    },
    {
     "data": {
      "image/png": "[encoded data removed]",
      "text/plain": [
       "<Figure size 432x288 with 1 Axes>"
      ]
     },
     "metadata": {},
     "output_type": "display_data"
    }
   ],
   "source": [
    "plt.title(\"BedRooms and Price\") \n",
    "plt.xlabel(\"BedRooms\") \n",
    "plt.ylabel(\"HomePriceK\") \n",
    "plt.scatter(df['BedRooms'],df['HomePriceK'])"
   ]
  },
  {
   "cell_type": "code",
   "execution_count": 149,
   "metadata": {},
   "outputs": [
    {
     "data": {
      "text/html": [
       "<div>\n",
       "<style scoped>\n",
       "    .dataframe tbody tr th:only-of-type {\n",
       "        vertical-align: middle;\n",
       "    }\n",
       "\n",
       "    .dataframe tbody tr th {\n",
       "        vertical-align: top;\n",
       "    }\n",
       "\n",
       "    .dataframe thead th {\n",
       "        text-align: right;\n",
       "    }\n",
       "</style>\n",
       "<table border=\"1\" class=\"dataframe\">\n",
       "  <thead>\n",
       "    <tr style=\"text-align: right;\">\n",
       "      <th></th>\n",
       "      <th>HomeAge</th>\n",
       "      <th>HomeSqft</th>\n",
       "      <th>LotSize</th>\n",
       "      <th>BedRooms</th>\n",
       "      <th>HighSchoolAPI</th>\n",
       "      <th>ProxFwy</th>\n",
       "      <th>CarGarage</th>\n",
       "      <th>HomePriceK</th>\n",
       "    </tr>\n",
       "  </thead>\n",
       "  <tbody>\n",
       "    <tr>\n",
       "      <th>HomeAge</th>\n",
       "      <td>1.000000</td>\n",
       "      <td>0.005498</td>\n",
       "      <td>0.133927</td>\n",
       "      <td>0.005164</td>\n",
       "      <td>-0.004151</td>\n",
       "      <td>-0.035133</td>\n",
       "      <td>-0.100304</td>\n",
       "      <td>0.154894</td>\n",
       "    </tr>\n",
       "    <tr>\n",
       "      <th>HomeSqft</th>\n",
       "      <td>0.005498</td>\n",
       "      <td>1.000000</td>\n",
       "      <td>-0.084197</td>\n",
       "      <td>0.032016</td>\n",
       "      <td>0.046302</td>\n",
       "      <td>-0.035486</td>\n",
       "      <td>-0.046856</td>\n",
       "      <td>-0.051960</td>\n",
       "    </tr>\n",
       "    <tr>\n",
       "      <th>LotSize</th>\n",
       "      <td>0.133927</td>\n",
       "      <td>-0.084197</td>\n",
       "      <td>1.000000</td>\n",
       "      <td>0.529351</td>\n",
       "      <td>-0.141361</td>\n",
       "      <td>-0.146570</td>\n",
       "      <td>-0.023795</td>\n",
       "      <td>0.962220</td>\n",
       "    </tr>\n",
       "    <tr>\n",
       "      <th>BedRooms</th>\n",
       "      <td>0.005164</td>\n",
       "      <td>0.032016</td>\n",
       "      <td>0.529351</td>\n",
       "      <td>1.000000</td>\n",
       "      <td>0.098336</td>\n",
       "      <td>0.054004</td>\n",
       "      <td>0.012358</td>\n",
       "      <td>0.510955</td>\n",
       "    </tr>\n",
       "    <tr>\n",
       "      <th>HighSchoolAPI</th>\n",
       "      <td>-0.004151</td>\n",
       "      <td>0.046302</td>\n",
       "      <td>-0.141361</td>\n",
       "      <td>0.098336</td>\n",
       "      <td>1.000000</td>\n",
       "      <td>-0.087640</td>\n",
       "      <td>0.104783</td>\n",
       "      <td>-0.137037</td>\n",
       "    </tr>\n",
       "    <tr>\n",
       "      <th>ProxFwy</th>\n",
       "      <td>-0.035133</td>\n",
       "      <td>-0.035486</td>\n",
       "      <td>-0.146570</td>\n",
       "      <td>0.054004</td>\n",
       "      <td>-0.087640</td>\n",
       "      <td>1.000000</td>\n",
       "      <td>0.073306</td>\n",
       "      <td>-0.190496</td>\n",
       "    </tr>\n",
       "    <tr>\n",
       "      <th>CarGarage</th>\n",
       "      <td>-0.100304</td>\n",
       "      <td>-0.046856</td>\n",
       "      <td>-0.023795</td>\n",
       "      <td>0.012358</td>\n",
       "      <td>0.104783</td>\n",
       "      <td>0.073306</td>\n",
       "      <td>1.000000</td>\n",
       "      <td>-0.055459</td>\n",
       "    </tr>\n",
       "    <tr>\n",
       "      <th>HomePriceK</th>\n",
       "      <td>0.154894</td>\n",
       "      <td>-0.051960</td>\n",
       "      <td>0.962220</td>\n",
       "      <td>0.510955</td>\n",
       "      <td>-0.137037</td>\n",
       "      <td>-0.190496</td>\n",
       "      <td>-0.055459</td>\n",
       "      <td>1.000000</td>\n",
       "    </tr>\n",
       "  </tbody>\n",
       "</table>\n",
       "</div>"
      ],
      "text/plain": [
       "                HomeAge  HomeSqft   LotSize  BedRooms  HighSchoolAPI  \\\n",
       "HomeAge        1.000000  0.005498  0.133927  0.005164      -0.004151   \n",
       "HomeSqft       0.005498  1.000000 -0.084197  0.032016       0.046302   \n",
       "LotSize        0.133927 -0.084197  1.000000  0.529351      -0.141361   \n",
       "BedRooms       0.005164  0.032016  0.529351  1.000000       0.098336   \n",
       "HighSchoolAPI -0.004151  0.046302 -0.141361  0.098336       1.000000   \n",
       "ProxFwy       -0.035133 -0.035486 -0.146570  0.054004      -0.087640   \n",
       "CarGarage     -0.100304 -0.046856 -0.023795  0.012358       0.104783   \n",
       "HomePriceK     0.154894 -0.051960  0.962220  0.510955      -0.137037   \n",
       "\n",
       "                ProxFwy  CarGarage  HomePriceK  \n",
       "HomeAge       -0.035133  -0.100304    0.154894  \n",
       "HomeSqft      -0.035486  -0.046856   -0.051960  \n",
       "LotSize       -0.146570  -0.023795    0.962220  \n",
       "BedRooms       0.054004   0.012358    0.510955  \n",
       "HighSchoolAPI -0.087640   0.104783   -0.137037  \n",
       "ProxFwy        1.000000   0.073306   -0.190496  \n",
       "CarGarage      0.073306   1.000000   -0.055459  \n",
       "HomePriceK    -0.190496  -0.055459    1.000000  "
      ]
     },
     "execution_count": 149,
     "metadata": {},
     "output_type": "execute_result"
    }
   ],
   "source": [
    "df.corr()"
   ]
  },
  {
   "cell_type": "code",
   "execution_count": null,
   "metadata": {},
   "outputs": [],
   "source": []
  },
  {
   "cell_type": "code",
   "execution_count": null,
   "metadata": {},
   "outputs": [],
   "source": []
  },
  {
   "cell_type": "code",
   "execution_count": null,
   "metadata": {},
   "outputs": [],
   "source": []
  }
 ],
 "metadata": {
  "anaconda-cloud": {},
  "kernelspec": {
   "display_name": "Python 3",
   "language": "python",
   "name": "python3"
  },
  "language_info": {
   "codemirror_mode": {
    "name": "ipython",
    "version": 3
   },
   "file_extension": ".py",
   "mimetype": "text/x-python",
   "name": "python",
   "nbconvert_exporter": "python",
   "pygments_lexer": "ipython3",
   "version": "3.7.0"
  }
 },
 "nbformat": 4,
 "nbformat_minor": 2
}
