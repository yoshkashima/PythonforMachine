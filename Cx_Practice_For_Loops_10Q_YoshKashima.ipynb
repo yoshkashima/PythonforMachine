{
 "cells": [
  {
   "cell_type": "markdown",
   "metadata": {},
   "source": [
    "# Python practice problems with for loops, dict, input"
   ]
  },
  {
   "cell_type": "code",
   "execution_count": 45,
   "metadata": {},
   "outputs": [],
   "source": [
    "# Review Python \"input\" # this should help with assignments below"
   ]
  },
  {
   "cell_type": "code",
   "execution_count": 46,
   "metadata": {},
   "outputs": [
    {
     "name": "stdout",
     "output_type": "stream",
     "text": [
      "Which year will be next summer Olympics? 2020\n"
     ]
    }
   ],
   "source": [
    "Olympic_year = input(\"Which year will be next summer Olympics? \")"
   ]
  },
  {
   "cell_type": "code",
   "execution_count": 47,
   "metadata": {},
   "outputs": [
    {
     "name": "stdout",
     "output_type": "stream",
     "text": [
      "<class 'str'>\n"
     ]
    }
   ],
   "source": [
    "print(type(Olympic_year)) # it is string"
   ]
  },
  {
   "cell_type": "code",
   "execution_count": 48,
   "metadata": {},
   "outputs": [
    {
     "name": "stdout",
     "output_type": "stream",
     "text": [
      "<class 'int'>\n"
     ]
    }
   ],
   "source": [
    "print(type(int(Olympic_year))) # it is integer"
   ]
  },
  {
   "cell_type": "markdown",
   "metadata": {},
   "source": [
    "1) Write a for loop to print \"Hello\" 10 times."
   ]
  },
  {
   "cell_type": "code",
   "execution_count": 2,
   "metadata": {},
   "outputs": [
    {
     "name": "stdout",
     "output_type": "stream",
     "text": [
      "Hello\n",
      "Hello\n",
      "Hello\n",
      "Hello\n",
      "Hello\n",
      "Hello\n",
      "Hello\n",
      "Hello\n",
      "Hello\n",
      "Hello\n"
     ]
    }
   ],
   "source": [
    "# Write code here ...\n",
    "for i in range (0, 10):\n",
    "    print (\"Hello\")"
   ]
  },
  {
   "cell_type": "markdown",
   "metadata": {},
   "source": [
    "2) Write a for loop to print even numbers in the range 1 .. 20"
   ]
  },
  {
   "cell_type": "code",
   "execution_count": 4,
   "metadata": {},
   "outputs": [
    {
     "name": "stdout",
     "output_type": "stream",
     "text": [
      "2\n",
      "4\n",
      "6\n",
      "8\n",
      "10\n",
      "12\n",
      "14\n",
      "16\n",
      "18\n"
     ]
    }
   ],
   "source": [
    "# Write code here ...\n",
    "count = 1\n",
    "while count < 20:\n",
    "    if count % 2 == 0:\n",
    "        print(count)\n",
    "    count += 1 \n",
    "\n"
   ]
  },
  {
   "cell_type": "code",
   "execution_count": null,
   "metadata": {},
   "outputs": [],
   "source": [
    "\"\"\"\n",
    "3) Define a list of animals to be as follows:\n",
    "animals = [\"lion\",\"tiger\",\"elephant\",\"giraffe\",\"zebra\"]\n",
    "\n",
    "Now print animal names using for loop. The output should be as follows:\n",
    "1 lion\n",
    "2 tiger\n",
    "3 elephant\n",
    "4 giraffe\n",
    "5 zebra\n",
    "\"\"\""
   ]
  },
  {
   "cell_type": "code",
   "execution_count": 12,
   "metadata": {},
   "outputs": [
    {
     "name": "stdout",
     "output_type": "stream",
     "text": [
      "2 lion\n",
      "3 tiger\n",
      "4 elephant\n",
      "5 giraffe\n",
      "6 zebra\n",
      "----------------------\n",
      "0 lion\n",
      "1 tiger\n",
      "2 elephant\n",
      "3 giraffe\n",
      "4 zebra\n"
     ]
    }
   ],
   "source": [
    "# Write code here ...\n",
    "animals = [\"lion\",\"tiger\",\"elephant\",\"giraffe\",\"zebra\"]\n",
    "count = 1\n",
    "for i in animals:\n",
    "    count += 1\n",
    "    print(count, end=\" \")\n",
    "    print (i)\n",
    "\n",
    "print (\"----------------------\")\n",
    "    \n",
    "for i in range (len(animals)):\n",
    "    print (i, animals[i])\n"
   ]
  },
  {
   "cell_type": "code",
   "execution_count": 53,
   "metadata": {},
   "outputs": [
    {
     "data": {
      "text/plain": [
       "'\\n4) Visiting moon every year for next 10 years\\nThe weight on moon can be estimated to be 18%  of weight on earth.\\nWrite a program which will ask the user to enter current earth weight.\\nThen calculate weight on moon. Assume our weight increases by 2 pounds every year on earth.\\n\\nUse for loop to print weight on moon each year when you visit.\\n'"
      ]
     },
     "execution_count": 53,
     "metadata": {},
     "output_type": "execute_result"
    }
   ],
   "source": [
    "\"\"\"\n",
    "4) Visiting moon every year for next 10 years\n",
    "The weight on moon can be estimated to be 18%  of weight on earth.\n",
    "Write a program which will ask the user to enter current earth weight.\n",
    "Then calculate weight on moon. Assume our weight increases by 2 pounds every year on earth.\n",
    "\n",
    "Use for loop to print weight on moon each year when you visit.\n",
    "\"\"\""
   ]
  },
  {
   "cell_type": "code",
   "execution_count": 24,
   "metadata": {},
   "outputs": [
    {
     "name": "stdout",
     "output_type": "stream",
     "text": [
      "Please input the weight on Earth :100\n",
      "Please input number of years: 10\n",
      "In 0 years It will weight:   18.0\n",
      "In 1 years It will weight:   20.0\n",
      "In 2 years It will weight:   22.0\n",
      "In 3 years It will weight:   24.0\n",
      "In 4 years It will weight:   26.0\n",
      "In 5 years It will weight:   28.0\n",
      "In 6 years It will weight:   30.0\n",
      "In 7 years It will weight:   32.0\n",
      "In 8 years It will weight:   34.0\n",
      "In 9 years It will weight:   36.0\n"
     ]
    }
   ],
   "source": [
    "# Write code here \n",
    "# Moon Weight:\n",
    "\n",
    "# Function to calculate weight of Moon\n",
    "def weightMoon(weightEarth, years):\n",
    "    weightMoon  = weightEarth * 0.18\n",
    "    for i in range (0,years):\n",
    "        weightMoon += 2\n",
    "    return weightMoon\n",
    "\n",
    "def main():\n",
    "\n",
    "    weightEarth = eval(input(\"Please input the weight on Earth :\"))\n",
    "    years = eval(input(\"Please input number of years: \"))\n",
    "\n",
    "    for i in range (years):\n",
    "        print(\"In\", i,\"years\", \"It will weight:  \", weightMoon(weightEarth, i))\n",
    "\n",
    "\n",
    "main()\n",
    "\n"
   ]
  },
  {
   "cell_type": "markdown",
   "metadata": {},
   "source": [
    "5) Write a for loop to find the sum of all numbers from 1 to 100; 1 + 2 + ... + 99 + 100"
   ]
  },
  {
   "cell_type": "code",
   "execution_count": 12,
   "metadata": {},
   "outputs": [
    {
     "name": "stdout",
     "output_type": "stream",
     "text": [
      "Sum of all numbers from 1 to 100 is : 5050\n"
     ]
    }
   ],
   "source": [
    "# Write code here ...\n",
    "xsum = 0\n",
    "for i in range (1, 101):\n",
    "#     print(i)\n",
    "    xsum = xsum + i \n",
    "print(\"Sum of all numbers from 1 to 100 is :\", xsum)\n"
   ]
  },
  {
   "cell_type": "markdown",
   "metadata": {},
   "source": [
    "6) Write a for loop which will ask the user to input 4 numbers. The program should calculate sum of 4 numbers and print the sum."
   ]
  },
  {
   "cell_type": "code",
   "execution_count": 24,
   "metadata": {},
   "outputs": [
    {
     "name": "stdout",
     "output_type": "stream",
     "text": [
      "Please input the numbers:  1\n",
      "Please input the numbers:  2\n",
      "Please input the numbers:  3\n",
      "Please input the numbers:  4\n",
      "Please input the numbers:  5\n",
      "Sum of  5 number is   : 15\n"
     ]
    }
   ],
   "source": [
    "# Write code here ...\n",
    "count = 0\n",
    "number = 0\n",
    "total = 0\n",
    "while count < 5:\n",
    "    number = eval(input(\"Please input the numbers:  \"))\n",
    "    count += 1\n",
    "    total = total + number\n",
    "print (\"Sum of \", count, \"number is   :\", total)\n",
    "              \n",
    "\n",
    "              \n",
    "\n"
   ]
  },
  {
   "cell_type": "markdown",
   "metadata": {},
   "source": [
    "7) Write a Python for loop to find product of even number from 1 to 50;\n",
    "2 x 4 x 6 x 8 x ... x 42 x 44 x 46 x 50"
   ]
  },
  {
   "cell_type": "code",
   "execution_count": 27,
   "metadata": {},
   "outputs": [
    {
     "name": "stdout",
     "output_type": "stream",
     "text": [
      "Sum of multiplication is:   520469842636666622693081088000000\n"
     ]
    }
   ],
   "source": [
    "# Write code here ...\n",
    "multi_sum = 1\n",
    "for k in range (0, 51, 2):\n",
    "    if k == 0:\n",
    "        continue\n",
    "    else:\n",
    "        multi_sum = multi_sum * k\n",
    "#     print (\"index is:  \",k)\n",
    "#     print (\"total is:  \", multi_sum)\n",
    "print (\"Sum of multiplication is:  \", multi_sum)\n",
    "    \n",
    "\n"
   ]
  },
  {
   "cell_type": "markdown",
   "metadata": {},
   "source": [
    "8a) Find the index of minimum and maximum number in MyList."
   ]
  },
  {
   "cell_type": "code",
   "execution_count": 5,
   "metadata": {},
   "outputs": [],
   "source": [
    "myList = [46, 84, 43, 75, 94, 7, 17, 76, 44, 17, 81, 21, 70, 56, 98, 88, 59, 58, 62, 77, \n",
    "          56, 19, 83, 82, 2, 38, 8, 57, 80, 54, 71, 74, 77, 18, 66, 25, 60, 29, 30, 11, \n",
    "          45, 60, 92, 44, 71, 49, 22, 74, 30, 58, 73, 60, 14, 97, 13, 78, 42, 17, 98, 14, \n",
    "          19, 79, 54, 56, 84, 81, 49, 18, 95, 36, 84, 77, 44, 69, 48, 94, 66, 13, 96, 7, \n",
    "          9, 47, 4, 37, 71, 51, 9, 28, 92, 38, 75, 66, 2, 34, 88, 4, 43, 75, 57, 83,\n",
    "          63, 17, 25, 98, 71, 95, 1, 86, 97, 90, 6, 96, 11, 49, 16, 91, 50, 66, 54, 94,\n",
    "          75, 69, 97, 23, 50, 13, 75, 15, 77, 17, 57, 59, 47, 44, 95, 28, 16, 72, 69, 7,\n",
    "          14, 76, 10, 21, 56, 89, 51, 78, 25, 7, 8, 17, 53, 86, 58, 35, 46, 16, 74, 21, 9,\n",
    "          4, 91, 59, 84, 50, 86, 60, 63, 99, 92, 64, 55, 40, 93, 39, 48, 96, 49, 98, 36,\n",
    "          72, 82, 45, 62, 58, 77, 17, 42, 49, 38, 21, 84, 61, 77, 1, 37, 31, 50, 52, 58]"
   ]
  },
  {
   "cell_type": "code",
   "execution_count": 18,
   "metadata": {},
   "outputs": [
    {
     "name": "stdout",
     "output_type": "stream",
     "text": [
      "Index of Minimum number is:  106 Minimum number is:   1\n",
      "Index of Maximum number is:  169 Maximum number is:   99\n",
      "Index of Minimum number is:  195 Minimum number is:   1\n"
     ]
    }
   ],
   "source": [
    "# Write code here\n",
    "for i in range (len(myList)):\n",
    "    if myList[i] == max(myList):\n",
    "        print(\"Index of Maximum number is: \", i, \"Maximum number is:  \",max(myList))\n",
    "    if myList[i] == min(myList):\n",
    "        print(\"Index of Minimum number is: \", i, \"Minimum number is:  \",min(myList))\n",
    "\n"
   ]
  },
  {
   "cell_type": "markdown",
   "metadata": {},
   "source": [
    "8b) In myList, find top-5 highest frequency numbers. List the numbers and number of occurences."
   ]
  },
  {
   "cell_type": "code",
   "execution_count": 15,
   "metadata": {},
   "outputs": [
    {
     "name": "stdout",
     "output_type": "stream",
     "text": [
      "[46, 84, 43, 75, 94, 7, 17, 76, 44, 17, 81, 21, 70, 56, 98, 88, 59, 58, 62, 77, 56, 19, 83, 82, 2, 38, 8, 57, 80, 54, 71, 74, 77, 18, 66, 25, 60, 29, 30, 11, 45, 60, 92, 44, 71, 49, 22, 74, 30, 58, 73, 60, 14, 97, 13, 78, 42, 17, 98, 14, 19, 79, 54, 56, 84, 81, 49, 18, 95, 36, 84, 77, 44, 69, 48, 94, 66, 13, 96, 7, 9, 47, 4, 37, 71, 51, 9, 28, 92, 38, 75, 66, 2, 34, 88, 4, 43, 75, 57, 83, 63, 17, 25, 98, 71, 95, 1, 86, 97, 90, 6, 96, 11, 49, 16, 91, 50, 66, 54, 94, 75, 69, 97, 23, 50, 13, 75, 15, 77, 17, 57, 59, 47, 44, 95, 28, 16, 72, 69, 7, 14, 76, 10, 21, 56, 89, 51, 78, 25, 7, 8, 17, 53, 86, 58, 35, 46, 16, 74, 21, 9, 4, 91, 59, 84, 50, 86, 60, 63, 99, 92, 64, 55, 40, 93, 39, 48, 96, 49, 98, 36, 72, 82, 45, 62, 58, 77, 17, 42, 49, 38, 21, 84, 61, 77, 1, 37, 31, 50, 52, 58]\n",
      "1\n",
      "4\n",
      "3\n",
      "3\n",
      "3\n",
      "Number is   99 number of occruance is  1\n",
      "Number is   98 number of occruance is  4\n",
      "Number is   97 number of occruance is  3\n",
      "Number is   96 number of occruance is  3\n",
      "Number is   95 number of occruance is  3\n"
     ]
    }
   ],
   "source": [
    "# write code here ...\n",
    "print (myList)\n",
    "a=myList.count(99)\n",
    "print(a)\n",
    "b=myList.count(98)\n",
    "print(b)\n",
    "c=myList.count(97)\n",
    "print(c)\n",
    "d=myList.count(96)\n",
    "print(d)\n",
    "e=myList.count(95)\n",
    "print(e)\n",
    "\n",
    "maxNum = max(myList)\n",
    "for i in range(maxNum, maxNum-5, -1):\n",
    "    print(\"Number is  \", i, \"number of occruance is \", myList.count(i))\n",
    "    \n",
    "\n",
    "\n",
    "\n",
    "# for i in range (myList):\n",
    "#     count [myList[i] - 1] += 1\n",
    "# print(count)\n",
    "\n"
   ]
  },
  {
   "cell_type": "markdown",
   "metadata": {},
   "source": [
    "9) Write a Python program to convert temperature from Centigrade to Fahrenheit\n",
    "and Fahrenheit to Centigrade. At the start, the program should ask which way we are converting.\n",
    "\n",
    "Then ask the user to input the temperature. Your program should do the conversion\n",
    "and print the results.\n",
    "\n",
    "(C x 9/5) + 32 = F"
   ]
  },
  {
   "cell_type": "code",
   "execution_count": 5,
   "metadata": {},
   "outputs": [
    {
     "name": "stdout",
     "output_type": "stream",
     "text": [
      "Please input the temperature you want to convert40\n",
      "Wish to convert to Fahrenheity\n",
      "Temperature in Fahrenheit is 104.00\n"
     ]
    }
   ],
   "source": [
    "# Write code here \n",
    "def convertFToC(temp):\n",
    "\ttemp_C =((temp - 32)*5)/9\n",
    "\treturn temp_C\n",
    "\n",
    "def convertCToF(temp):\n",
    "\ttemp_F = (temp*9/5) + 32\n",
    "\treturn temp_F\n",
    "\n",
    "def main():\n",
    "\n",
    "\ttemp = 0\n",
    "\ttemp = eval(input(\"Please input the temperature you want to convert\"))\n",
    "\tconvert = input(\"Wish to convert to Fahrenheit\")\n",
    "\n",
    "\tif convert == \"y\":\n",
    "\t\tprint (\"Temperature in Fahrenheit is\", format(convertCToF(temp), \".2f\"))\n",
    "\telse:\n",
    "\t\tprint (\"Temperature in Centigrage is\", format(convertFToC(temp),\".2f\"))\n",
    "\n",
    "\n",
    "main()"
   ]
  },
  {
   "cell_type": "code",
   "execution_count": 6,
   "metadata": {},
   "outputs": [
    {
     "data": {
      "text/plain": [
       "'\\n10) Print the times table:\\n1x1=1 1x2=2 1x3=3 1x4=4 1x5=5\\n2x1=2 2x2=4 2x3=6 2x4=8 2x5=10\\n3x1=3 3x2=6 3x3=9 3x4=12 3x5=15\\n4x1=3 4x2=6 4x3=9 4x4=12 4x5=15\\n5x1=3 5x2=6 5x3=9 5x4=12 5x5=15\\n\\nUse for loop nested with for loop to print the above multiplication table\\n'"
      ]
     },
     "execution_count": 6,
     "metadata": {},
     "output_type": "execute_result"
    }
   ],
   "source": [
    "\"\"\"\n",
    "10) Print the times table:\n",
    "1x1=1 1x2=2 1x3=3 1x4=4 1x5=5\n",
    "2x1=2 2x2=4 2x3=6 2x4=8 2x5=10\n",
    "3x1=3 3x2=6 3x3=9 3x4=12 3x5=15\n",
    "4x1=3 4x2=6 4x3=9 4x4=12 4x5=15\n",
    "5x1=3 5x2=6 5x3=9 5x4=12 5x5=15\n",
    "\n",
    "Use for loop nested with for loop to print the above multiplication table\n",
    "\"\"\""
   ]
  },
  {
   "cell_type": "code",
   "execution_count": 26,
   "metadata": {},
   "outputs": [
    {
     "name": "stdout",
     "output_type": "stream",
     "text": [
      "Please input the number of colums5\n",
      "1\t2\t3\t4\t5\t\n",
      "2\t4\t6\t8\t10\t\n",
      "3\t6\t9\t12\t15\t\n",
      "4\t8\t12\t16\t20\t\n",
      "5\t10\t15\t20\t25\t\n",
      "1x1=1 1x2=2 1x3=3 1x4=4 1x5=5 \n",
      "2x1=2 2x2=4 2x3=6 2x4=8 2x5=10 \n",
      "3x1=3 3x2=6 3x3=9 3x4=12 3x5=15 \n",
      "4x1=4 4x2=8 4x3=12 4x4=16 4x5=20 \n",
      "5x1=5 5x2=10 5x3=15 5x4=20 5x5=25 \n"
     ]
    }
   ],
   "source": [
    "#write code here\n",
    "# Matrix of 5 by 5\n",
    "n = eval(input(\"Please input the number of colums\"))\n",
    "for row in range (1, n+1):\n",
    "    for col in range(1, n+1):\n",
    "        print (row*col, end = \"\\t\")\n",
    "    print()\n",
    "\n",
    "#-------------------\n",
    "# Way to tell it is multipliction tabl.\n",
    "        \n",
    "for row in range (1, n+1):\n",
    "    for col in range(1, n+1):\n",
    "        p=row*col\n",
    "        line=str(row) + 'x'+str(col)+'=%i'%p\n",
    "        print(line,sep=' ', end=' ')\n",
    "    print()"
   ]
  },
  {
   "cell_type": "code",
   "execution_count": null,
   "metadata": {},
   "outputs": [],
   "source": []
  }
 ],
 "metadata": {
  "kernelspec": {
   "display_name": "Python 3",
   "language": "python",
   "name": "python3"
  },
  "language_info": {
   "codemirror_mode": {
    "name": "ipython",
    "version": 3
   },
   "file_extension": ".py",
   "mimetype": "text/x-python",
   "name": "python",
   "nbconvert_exporter": "python",
   "pygments_lexer": "ipython3",
   "version": "3.7.0"
  }
 },
 "nbformat": 4,
 "nbformat_minor": 2
}
