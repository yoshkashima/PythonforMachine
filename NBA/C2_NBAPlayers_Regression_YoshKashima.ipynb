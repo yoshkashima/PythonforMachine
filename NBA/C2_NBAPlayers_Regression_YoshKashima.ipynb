{
 "cells": [
  {
   "cell_type": "code",
   "execution_count": 42,
   "metadata": {},
   "outputs": [
    {
     "data": {
      "text/plain": [
       "'\\nRegression with NBA_player_of_the_week.csv 1155 data rows\\nhttps://www.kaggle.com/datasets\\nNBA players of Week \\nPlayer of the week data from 1984-5 to current season (Cur2018-9)\\nJacob Baruch (Version 3)\\nOriginal 1155 rows; 14 rows \\n'"
      ]
     },
     "execution_count": 42,
     "metadata": {},
     "output_type": "execute_result"
    }
   ],
   "source": [
    "\"\"\"\n",
    "Regression with NBA_player_of_the_week.csv 1155 data rows\n",
    "https://www.kaggle.com/datasets\n",
    "NBA players of Week \n",
    "Player of the week data from 1984-5 to current season (Cur2018-9)\n",
    "Jacob Baruch (Version 3)\n",
    "Original 1155 rows; 14 rows \n",
    "\"\"\""
   ]
  },
  {
   "cell_type": "code",
   "execution_count": 43,
   "metadata": {},
   "outputs": [],
   "source": [
    "def read_file_auto(filename):\n",
    "    line_count = 0\n",
    "    file_read = open(filename,\"r\")\n",
    "    file_write = open(\"fixed-NBA_player_of_the_week.csv\", \"w\")\n",
    "    for line in iter(file_read):\n",
    "        line_no_newline = line.rstrip()\n",
    "        line_split = line_no_newline.split(\",\")\n",
    "        if \"\" in line_split:\n",
    "            line_count += 1\n",
    "            print(\"Bad line number:\",line_count)\n",
    "            continue  \n",
    "        else:\n",
    "            line_count += 1\n",
    "            file_write.write(line)\n",
    "    file_read.close()\n",
    "    file_write.close()\n",
    "    return"
   ]
  },
  {
   "cell_type": "code",
   "execution_count": 44,
   "metadata": {},
   "outputs": [
    {
     "name": "stdout",
     "output_type": "stream",
     "text": [
      "Bad line number: 2\n",
      "Bad line number: 3\n",
      "Bad line number: 4\n",
      "Bad line number: 5\n",
      "Bad line number: 6\n",
      "Bad line number: 7\n",
      "Bad line number: 8\n",
      "Bad line number: 9\n",
      "Bad line number: 10\n",
      "Bad line number: 11\n",
      "Bad line number: 12\n",
      "Bad line number: 13\n",
      "Bad line number: 14\n",
      "Bad line number: 15\n",
      "Bad line number: 16\n",
      "Bad line number: 17\n",
      "Bad line number: 18\n",
      "Bad line number: 19\n",
      "Bad line number: 20\n",
      "Bad line number: 21\n",
      "Bad line number: 22\n",
      "Bad line number: 23\n",
      "Bad line number: 24\n",
      "Bad line number: 25\n",
      "Bad line number: 26\n",
      "Bad line number: 27\n",
      "Bad line number: 28\n",
      "Bad line number: 29\n",
      "Bad line number: 30\n",
      "Bad line number: 31\n",
      "Bad line number: 32\n",
      "Bad line number: 33\n",
      "Bad line number: 34\n",
      "Bad line number: 35\n",
      "Bad line number: 36\n",
      "Bad line number: 37\n",
      "Bad line number: 38\n",
      "Bad line number: 39\n",
      "Bad line number: 40\n",
      "Bad line number: 41\n",
      "Bad line number: 42\n",
      "Bad line number: 43\n",
      "Bad line number: 44\n",
      "Bad line number: 45\n",
      "Bad line number: 46\n",
      "Bad line number: 47\n",
      "Bad line number: 48\n",
      "Bad line number: 49\n",
      "Bad line number: 50\n",
      "Bad line number: 51\n",
      "Bad line number: 52\n",
      "Bad line number: 53\n",
      "Bad line number: 54\n",
      "Bad line number: 55\n",
      "Bad line number: 56\n",
      "Bad line number: 57\n",
      "Bad line number: 58\n",
      "Bad line number: 59\n",
      "Bad line number: 60\n",
      "Bad line number: 61\n",
      "Bad line number: 62\n",
      "Bad line number: 63\n",
      "Bad line number: 64\n",
      "Bad line number: 65\n",
      "Bad line number: 66\n",
      "Bad line number: 67\n",
      "Bad line number: 68\n",
      "Bad line number: 69\n",
      "Bad line number: 70\n",
      "Bad line number: 71\n",
      "Bad line number: 72\n",
      "Bad line number: 73\n",
      "Bad line number: 74\n",
      "Bad line number: 75\n",
      "Bad line number: 76\n",
      "Bad line number: 77\n",
      "Bad line number: 78\n",
      "Bad line number: 79\n",
      "Bad line number: 80\n",
      "Bad line number: 81\n",
      "Bad line number: 82\n",
      "Bad line number: 83\n",
      "Bad line number: 84\n",
      "Bad line number: 85\n",
      "Bad line number: 86\n",
      "Bad line number: 87\n",
      "Bad line number: 88\n",
      "Bad line number: 89\n",
      "Bad line number: 90\n",
      "Bad line number: 91\n",
      "Bad line number: 92\n",
      "Bad line number: 93\n",
      "Bad line number: 94\n",
      "Bad line number: 95\n",
      "Bad line number: 96\n",
      "Bad line number: 97\n",
      "Bad line number: 98\n",
      "Bad line number: 99\n",
      "Bad line number: 100\n",
      "Bad line number: 101\n",
      "Bad line number: 102\n",
      "Bad line number: 103\n",
      "Bad line number: 104\n",
      "Bad line number: 105\n",
      "Bad line number: 106\n",
      "Bad line number: 107\n",
      "Bad line number: 108\n",
      "Bad line number: 109\n",
      "Bad line number: 110\n",
      "Bad line number: 111\n",
      "Bad line number: 112\n",
      "Bad line number: 113\n",
      "Bad line number: 114\n",
      "Bad line number: 115\n",
      "Bad line number: 116\n",
      "Bad line number: 117\n",
      "Bad line number: 118\n",
      "Bad line number: 119\n",
      "Bad line number: 120\n",
      "Bad line number: 121\n",
      "Bad line number: 122\n",
      "Bad line number: 123\n",
      "Bad line number: 124\n",
      "Bad line number: 125\n",
      "Bad line number: 126\n",
      "Bad line number: 127\n",
      "Bad line number: 128\n",
      "Bad line number: 129\n",
      "Bad line number: 130\n",
      "Bad line number: 131\n",
      "Bad line number: 132\n",
      "Bad line number: 133\n",
      "Bad line number: 134\n",
      "Bad line number: 135\n",
      "Bad line number: 136\n",
      "Bad line number: 137\n",
      "Bad line number: 138\n",
      "Bad line number: 139\n",
      "Bad line number: 140\n",
      "Bad line number: 141\n",
      "Bad line number: 142\n",
      "Bad line number: 143\n",
      "Bad line number: 144\n",
      "Bad line number: 145\n",
      "Bad line number: 146\n",
      "Bad line number: 147\n",
      "Bad line number: 148\n",
      "Bad line number: 149\n",
      "Bad line number: 150\n",
      "Bad line number: 151\n",
      "Bad line number: 152\n",
      "Bad line number: 153\n",
      "Bad line number: 154\n",
      "Bad line number: 155\n",
      "Bad line number: 156\n",
      "Bad line number: 157\n",
      "Bad line number: 158\n",
      "Bad line number: 159\n",
      "Bad line number: 160\n",
      "Bad line number: 161\n",
      "Bad line number: 162\n",
      "Bad line number: 163\n",
      "Bad line number: 164\n",
      "Bad line number: 165\n",
      "Bad line number: 166\n",
      "Bad line number: 167\n",
      "Bad line number: 168\n",
      "Bad line number: 169\n",
      "Bad line number: 170\n",
      "Bad line number: 171\n",
      "Bad line number: 172\n",
      "Bad line number: 173\n",
      "Bad line number: 174\n",
      "Bad line number: 175\n",
      "Bad line number: 176\n",
      "Bad line number: 177\n",
      "Bad line number: 178\n",
      "Bad line number: 179\n",
      "Bad line number: 180\n",
      "Bad line number: 181\n",
      "Bad line number: 182\n",
      "Bad line number: 183\n",
      "Bad line number: 184\n",
      "Bad line number: 185\n",
      "Bad line number: 186\n",
      "Bad line number: 187\n",
      "Bad line number: 188\n",
      "Bad line number: 189\n",
      "Bad line number: 190\n",
      "Bad line number: 191\n",
      "Bad line number: 192\n",
      "Bad line number: 193\n",
      "Bad line number: 194\n",
      "Bad line number: 195\n",
      "Bad line number: 196\n",
      "Bad line number: 197\n",
      "Bad line number: 198\n",
      "Bad line number: 199\n",
      "Bad line number: 200\n",
      "Bad line number: 201\n",
      "Bad line number: 202\n",
      "Bad line number: 203\n",
      "Bad line number: 204\n",
      "Bad line number: 205\n",
      "Bad line number: 206\n",
      "Bad line number: 207\n",
      "Bad line number: 208\n",
      "Bad line number: 209\n",
      "Bad line number: 210\n",
      "Bad line number: 211\n",
      "Bad line number: 212\n",
      "Bad line number: 213\n",
      "Bad line number: 214\n",
      "Bad line number: 215\n",
      "Bad line number: 216\n",
      "Bad line number: 217\n",
      "Bad line number: 218\n",
      "Bad line number: 219\n",
      "Bad line number: 220\n",
      "Bad line number: 221\n",
      "Bad line number: 222\n",
      "Bad line number: 223\n",
      "Bad line number: 224\n",
      "Bad line number: 225\n",
      "Bad line number: 226\n",
      "Bad line number: 227\n",
      "Bad line number: 228\n",
      "Bad line number: 229\n",
      "Bad line number: 230\n",
      "Bad line number: 231\n",
      "Bad line number: 232\n",
      "Bad line number: 233\n",
      "Bad line number: 234\n",
      "Bad line number: 235\n",
      "Bad line number: 236\n",
      "Bad line number: 237\n",
      "Bad line number: 238\n",
      "Bad line number: 239\n",
      "Bad line number: 240\n",
      "Bad line number: 241\n",
      "Bad line number: 242\n",
      "Bad line number: 243\n",
      "Bad line number: 244\n",
      "Bad line number: 245\n",
      "Bad line number: 246\n",
      "Bad line number: 247\n",
      "Bad line number: 248\n",
      "Bad line number: 249\n",
      "Bad line number: 250\n",
      "Bad line number: 251\n",
      "Bad line number: 252\n",
      "Bad line number: 253\n",
      "Bad line number: 254\n",
      "Bad line number: 255\n",
      "Bad line number: 256\n",
      "Bad line number: 257\n",
      "Bad line number: 258\n",
      "Bad line number: 259\n",
      "Bad line number: 260\n",
      "Bad line number: 261\n",
      "Bad line number: 262\n",
      "Bad line number: 263\n",
      "Bad line number: 264\n",
      "Bad line number: 265\n",
      "Bad line number: 266\n",
      "Bad line number: 267\n",
      "Bad line number: 268\n",
      "Bad line number: 269\n",
      "Bad line number: 270\n",
      "Bad line number: 271\n",
      "Bad line number: 272\n",
      "Bad line number: 273\n",
      "Bad line number: 274\n",
      "Bad line number: 275\n",
      "Bad line number: 276\n",
      "Bad line number: 277\n",
      "Bad line number: 278\n",
      "Bad line number: 279\n",
      "Bad line number: 280\n",
      "Bad line number: 281\n",
      "Bad line number: 282\n",
      "Bad line number: 283\n",
      "Bad line number: 284\n",
      "Bad line number: 285\n",
      "Bad line number: 286\n",
      "Bad line number: 287\n",
      "Bad line number: 288\n",
      "Bad line number: 289\n",
      "Bad line number: 290\n",
      "Bad line number: 291\n",
      "Bad line number: 292\n",
      "Bad line number: 293\n",
      "Bad line number: 294\n",
      "Bad line number: 295\n",
      "Bad line number: 296\n",
      "Bad line number: 297\n",
      "Bad line number: 298\n",
      "Bad line number: 299\n",
      "Bad line number: 300\n",
      "Bad line number: 301\n",
      "Bad line number: 302\n",
      "Bad line number: 303\n",
      "Bad line number: 304\n",
      "Bad line number: 305\n",
      "Bad line number: 306\n",
      "Bad line number: 307\n",
      "Bad line number: 308\n",
      "Bad line number: 309\n",
      "Bad line number: 310\n",
      "Bad line number: 311\n",
      "Bad line number: 312\n",
      "Bad line number: 313\n",
      "Bad line number: 314\n",
      "Bad line number: 315\n",
      "Bad line number: 316\n",
      "Bad line number: 317\n",
      "Bad line number: 318\n",
      "Bad line number: 319\n",
      "Bad line number: 320\n",
      "Bad line number: 321\n",
      "Bad line number: 322\n",
      "Bad line number: 323\n",
      "Bad line number: 324\n",
      "Bad line number: 325\n",
      "Bad line number: 326\n",
      "Bad line number: 327\n",
      "Bad line number: 328\n",
      "Bad line number: 329\n",
      "Bad line number: 330\n",
      "Bad line number: 331\n",
      "Bad line number: 332\n",
      "Bad line number: 333\n",
      "Bad line number: 334\n",
      "Bad line number: 335\n",
      "Bad line number: 336\n",
      "Bad line number: 337\n",
      "Bad line number: 338\n",
      "Bad line number: 339\n",
      "Bad line number: 340\n",
      "Bad line number: 341\n",
      "Bad line number: 342\n",
      "Bad line number: 343\n",
      "Bad line number: 344\n",
      "Bad line number: 345\n",
      "Bad line number: 346\n",
      "Bad line number: 347\n",
      "Bad line number: 348\n",
      "Bad line number: 349\n",
      "Bad line number: 350\n",
      "Bad line number: 351\n",
      "Bad line number: 352\n",
      "Bad line number: 353\n",
      "Bad line number: 354\n",
      "Bad line number: 355\n",
      "Bad line number: 356\n",
      "Bad line number: 357\n",
      "Bad line number: 358\n",
      "Bad line number: 359\n",
      "Bad line number: 360\n",
      "Bad line number: 361\n",
      "Bad line number: 362\n",
      "Bad line number: 363\n",
      "Bad line number: 364\n",
      "Bad line number: 365\n",
      "Bad line number: 366\n",
      "Bad line number: 367\n",
      "Bad line number: 368\n",
      "Bad line number: 369\n",
      "Bad line number: 370\n",
      "Bad line number: 371\n",
      "Bad line number: 372\n",
      "Bad line number: 373\n",
      "Bad line number: 374\n",
      "Bad line number: 375\n",
      "Bad line number: 376\n",
      "Bad line number: 377\n",
      "Bad line number: 378\n",
      "Bad line number: 379\n",
      "Bad line number: 380\n",
      "Bad line number: 381\n",
      "Bad line number: 382\n",
      "Bad line number: 383\n",
      "Bad line number: 384\n",
      "Bad line number: 385\n"
     ]
    }
   ],
   "source": [
    "read_file_auto(\"NBA_player_of_the_week.csv\")"
   ]
  },
  {
   "cell_type": "code",
   "execution_count": 90,
   "metadata": {},
   "outputs": [],
   "source": [
    "import pandas as pd\n",
    "import numpy as np\n",
    "import matplotlib.pyplot as plt\n",
    "%matplotlib inline"
   ]
  },
  {
   "cell_type": "code",
   "execution_count": 91,
   "metadata": {},
   "outputs": [
    {
     "name": "stdout",
     "output_type": "stream",
     "text": [
      "Dataframe shape:  (771, 14) \n",
      "\n",
      "   Active season        Player               Team Conference          Date  \\\n",
      "0              0   Paul Pierce     Boston Celtics       East   Apr 7, 2002   \n",
      "1              0    Tim Duncan  San Antonio Spurs       West   Apr 7, 2002   \n",
      "2              0   Ben Wallace    Detroit Pistons       East  Mar 31, 2002   \n",
      "3              0  Shawn Marion       Phoenix Suns       West  Mar 31, 2002   \n",
      "4              0    Jason Kidd    New Jersey Nets       East  Mar 24, 2002   \n",
      "\n",
      "  Position Height  Weight  Age  Draft Year  Seasons in league     Season  \\\n",
      "0       SF    6-7     235   24        1998                  3  2001-2002   \n",
      "1       FC   6-11     250   25        1997                  4  2001-2002   \n",
      "2       FC    6-9     240   27        1996                  5  2001-2002   \n",
      "3        F    6-7     228   23        1999                  2  2001-2002   \n",
      "4       PG    6-4     210   28        1994                  7  2001-2002   \n",
      "\n",
      "   Season short  Real_value  \n",
      "0          2002         0.5  \n",
      "1          2002         0.5  \n",
      "2          2002         0.5  \n",
      "3          2002         0.5  \n",
      "4          2002         0.5  \n"
     ]
    }
   ],
   "source": [
    "df = pd.read_csv('fixed-NBA_player_of_the_week.csv') \n",
    "print(\"Dataframe shape: \",df.shape,\"\\n\") # 392 rows + header\n",
    "print(df.head())"
   ]
  },
  {
   "cell_type": "code",
   "execution_count": 92,
   "metadata": {},
   "outputs": [],
   "source": [
    "df = df.drop(\"Real_value\",axis=1)\n",
    "df = df.drop(\"Season short\",axis=1)\n",
    "df = df.drop (\"Active season\",axis=1)\n",
    "df = df.drop (\"Conference\",axis=1)\n",
    "df = df.drop(\"Season\",axis=1)\n",
    "df = df.drop(\"Draft Year\",axis=1)\n",
    "df = df.drop(\"Date\",axis=1)\n",
    "df = df.drop(\"Team\",axis=1)\n",
    "df = df.drop(\"Position\",axis=1)\n",
    "df = df.drop(\"Player\",axis=1)\n",
    "df = df.drop(\"Height\",axis=1)"
   ]
  },
  {
   "cell_type": "code",
   "execution_count": 93,
   "metadata": {},
   "outputs": [
    {
     "name": "stdout",
     "output_type": "stream",
     "text": [
      "   Weight  Age  Seasons in league\n",
      "0     235   24                  3\n",
      "1     250   25                  4\n",
      "2     240   27                  5\n",
      "3     228   23                  2\n",
      "4     210   28                  7\n"
     ]
    }
   ],
   "source": [
    "print(df.head())"
   ]
  },
  {
   "cell_type": "code",
   "execution_count": 94,
   "metadata": {},
   "outputs": [
    {
     "data": {
      "text/html": [
       "<div>\n",
       "<style scoped>\n",
       "    .dataframe tbody tr th:only-of-type {\n",
       "        vertical-align: middle;\n",
       "    }\n",
       "\n",
       "    .dataframe tbody tr th {\n",
       "        vertical-align: top;\n",
       "    }\n",
       "\n",
       "    .dataframe thead th {\n",
       "        text-align: right;\n",
       "    }\n",
       "</style>\n",
       "<table border=\"1\" class=\"dataframe\">\n",
       "  <thead>\n",
       "    <tr style=\"text-align: right;\">\n",
       "      <th></th>\n",
       "      <th>Weight</th>\n",
       "      <th>Age</th>\n",
       "      <th>Seasons in league</th>\n",
       "    </tr>\n",
       "  </thead>\n",
       "  <tbody>\n",
       "    <tr>\n",
       "      <th>count</th>\n",
       "      <td>771.000000</td>\n",
       "      <td>771.000000</td>\n",
       "      <td>771.000000</td>\n",
       "    </tr>\n",
       "    <tr>\n",
       "      <th>mean</th>\n",
       "      <td>226.372244</td>\n",
       "      <td>26.565499</td>\n",
       "      <td>6.238651</td>\n",
       "    </tr>\n",
       "    <tr>\n",
       "      <th>std</th>\n",
       "      <td>30.481635</td>\n",
       "      <td>3.348472</td>\n",
       "      <td>3.240588</td>\n",
       "    </tr>\n",
       "    <tr>\n",
       "      <th>min</th>\n",
       "      <td>165.000000</td>\n",
       "      <td>19.000000</td>\n",
       "      <td>0.000000</td>\n",
       "    </tr>\n",
       "    <tr>\n",
       "      <th>25%</th>\n",
       "      <td>205.000000</td>\n",
       "      <td>24.000000</td>\n",
       "      <td>4.000000</td>\n",
       "    </tr>\n",
       "    <tr>\n",
       "      <th>50%</th>\n",
       "      <td>228.000000</td>\n",
       "      <td>26.000000</td>\n",
       "      <td>6.000000</td>\n",
       "    </tr>\n",
       "    <tr>\n",
       "      <th>75%</th>\n",
       "      <td>250.000000</td>\n",
       "      <td>28.000000</td>\n",
       "      <td>8.000000</td>\n",
       "    </tr>\n",
       "    <tr>\n",
       "      <th>max</th>\n",
       "      <td>325.000000</td>\n",
       "      <td>40.000000</td>\n",
       "      <td>17.000000</td>\n",
       "    </tr>\n",
       "  </tbody>\n",
       "</table>\n",
       "</div>"
      ],
      "text/plain": [
       "           Weight         Age  Seasons in league\n",
       "count  771.000000  771.000000         771.000000\n",
       "mean   226.372244   26.565499           6.238651\n",
       "std     30.481635    3.348472           3.240588\n",
       "min    165.000000   19.000000           0.000000\n",
       "25%    205.000000   24.000000           4.000000\n",
       "50%    228.000000   26.000000           6.000000\n",
       "75%    250.000000   28.000000           8.000000\n",
       "max    325.000000   40.000000          17.000000"
      ]
     },
     "execution_count": 94,
     "metadata": {},
     "output_type": "execute_result"
    }
   ],
   "source": [
    "df.describe()"
   ]
  },
  {
   "cell_type": "code",
   "execution_count": 95,
   "metadata": {},
   "outputs": [
    {
     "name": "stdout",
     "output_type": "stream",
     "text": [
      "   Weight  Age  Seasons in league\n",
      "0     235   24                  3\n",
      "1     250   25                  4\n",
      "2     240   27                  5\n",
      "3     228   23                  2\n",
      "4     210   28                  7\n"
     ]
    }
   ],
   "source": [
    "print(df[0:5])"
   ]
  },
  {
   "cell_type": "code",
   "execution_count": 96,
   "metadata": {},
   "outputs": [
    {
     "name": "stdout",
     "output_type": "stream",
     "text": [
      "     Weight  Age  Seasons in league\n",
      "766     200   30                 10\n",
      "767     242   24                  5\n",
      "768     190   30                  9\n",
      "769     184   28                  7\n",
      "770     250   24                  3\n"
     ]
    }
   ],
   "source": [
    "print(df[-5:])"
   ]
  },
  {
   "cell_type": "code",
   "execution_count": 98,
   "metadata": {},
   "outputs": [
    {
     "name": "stdout",
     "output_type": "stream",
     "text": [
      "Dataframe shape:  (771, 3) \n",
      "\n"
     ]
    }
   ],
   "source": [
    "# Normalizing dfpr because data is dispersed.\n",
    "from sklearn import preprocessing\n",
    "float_array = df.values.astype(float)\n",
    "min_max_scaler = preprocessing.MinMaxScaler()\n",
    "scaled_array = min_max_scaler.fit_transform(float_array)\n",
    "df_normalized = pd.DataFrame(scaled_array,columns = [\"Player Weight\",\"Age\",\"Years in League\"])\n",
    "print(\"Dataframe shape: \",df_normalized.shape,\"\\n\") # 392 rows, 7 columns + header"
   ]
  },
  {
   "cell_type": "code",
   "execution_count": 99,
   "metadata": {},
   "outputs": [
    {
     "name": "stdout",
     "output_type": "stream",
     "text": [
      "   Player Weight       Age  Years in League\n",
      "0        0.43750  0.238095         0.176471\n",
      "1        0.53125  0.285714         0.235294\n",
      "2        0.46875  0.380952         0.294118\n",
      "3        0.39375  0.190476         0.117647\n",
      "4        0.28125  0.428571         0.411765\n"
     ]
    }
   ],
   "source": [
    "print(df_normalized[0:5])\n",
    "# print(df_normalized[-5:])"
   ]
  },
  {
   "cell_type": "code",
   "execution_count": 100,
   "metadata": {},
   "outputs": [
    {
     "name": "stderr",
     "output_type": "stream",
     "text": [
      "/home/ykashima/anaconda3/lib/python3.7/site-packages/IPython/core/interactiveshell.py:2961: UserWarning: To output multiple subplots, the figure containing the passed axes is being cleared\n",
      "  exec(code_obj, self.user_global_ns, self.user_ns)\n"
     ]
    },
    {
     "data": {
      "text/plain": [
       "array([[<matplotlib.axes._subplots.AxesSubplot object at 0xa7b7b36c>,\n",
       "        <matplotlib.axes._subplots.AxesSubplot object at 0xa7942fcc>],\n",
       "       [<matplotlib.axes._subplots.AxesSubplot object at 0xa78e146c>,\n",
       "        <matplotlib.axes._subplots.AxesSubplot object at 0xa78f98ec>]],\n",
       "      dtype=object)"
      ]
     },
     "execution_count": 100,
     "metadata": {},
     "output_type": "execute_result"
    },
    {
     "data": {
      "image/png": "[encoded data removed]",
      "text/plain": [
       "<Figure size 576x576 with 4 Axes>"
      ]
     },
     "metadata": {
      "needs_background": "light"
     },
     "output_type": "display_data"
    }
   ],
   "source": [
    "fig = plt.figure(figsize = (8,8))\n",
    "ax = fig.gca()\n",
    "df.hist(ax = ax)"
   ]
  },
  {
   "cell_type": "code",
   "execution_count": 101,
   "metadata": {},
   "outputs": [
    {
     "name": "stderr",
     "output_type": "stream",
     "text": [
      "/home/ykashima/anaconda3/lib/python3.7/site-packages/IPython/core/interactiveshell.py:2961: UserWarning: To output multiple subplots, the figure containing the passed axes is being cleared\n",
      "  exec(code_obj, self.user_global_ns, self.user_ns)\n"
     ]
    },
    {
     "data": {
      "text/plain": [
       "array([[<matplotlib.axes._subplots.AxesSubplot object at 0xa7b7b16c>,\n",
       "        <matplotlib.axes._subplots.AxesSubplot object at 0xa75cfe8c>],\n",
       "       [<matplotlib.axes._subplots.AxesSubplot object at 0xa781a52c>,\n",
       "        <matplotlib.axes._subplots.AxesSubplot object at 0xa7830b4c>]],\n",
       "      dtype=object)"
      ]
     },
     "execution_count": 101,
     "metadata": {},
     "output_type": "execute_result"
    },
    {
     "data": {
      "image/png": "[encoded data removed]",
      "text/plain": [
       "<Figure size 576x576 with 4 Axes>"
      ]
     },
     "metadata": {
      "needs_background": "light"
     },
     "output_type": "display_data"
    }
   ],
   "source": [
    "fig = plt.figure(figsize = (8,8))\n",
    "ax = fig.gca()\n",
    "df_normalized.hist(ax = ax)"
   ]
  },
  {
   "cell_type": "code",
   "execution_count": 102,
   "metadata": {},
   "outputs": [],
   "source": [
    "def correlation_matrix(df):\n",
    "    from matplotlib import pyplot as plt\n",
    "    from matplotlib import cm as cm\n",
    "\n",
    "    fig = plt.figure()\n",
    "    ax1 = fig.add_subplot(111)\n",
    "    cmap = cm.get_cmap('jet', 30)\n",
    "    labels = [\"m\",\"mpg\",\"cylinders\",\"displacement\",\"horsepower\",\"weight\",\"acceleration\",\"year\"]\n",
    "    cax = ax1.imshow(df.corr(), interpolation=\"nearest\", cmap=cmap)\n",
    "    ax1.grid(True)\n",
    "    ax1.set_xticklabels(labels,fontsize=6)\n",
    "    ax1.set_yticklabels(labels,fontsize=6)\n",
    "    # Add colorbar, make sure to specify tick locations to match desired ticklabels\n",
    "    fig.colorbar(cax, ticks=[.75,.8,.85,.90,.95,1])\n",
    "    plt.show()"
   ]
  },
  {
   "cell_type": "code",
   "execution_count": 103,
   "metadata": {},
   "outputs": [
    {
     "data": {
      "text/html": [
       "<div>\n",
       "<style scoped>\n",
       "    .dataframe tbody tr th:only-of-type {\n",
       "        vertical-align: middle;\n",
       "    }\n",
       "\n",
       "    .dataframe tbody tr th {\n",
       "        vertical-align: top;\n",
       "    }\n",
       "\n",
       "    .dataframe thead th {\n",
       "        text-align: right;\n",
       "    }\n",
       "</style>\n",
       "<table border=\"1\" class=\"dataframe\">\n",
       "  <thead>\n",
       "    <tr style=\"text-align: right;\">\n",
       "      <th></th>\n",
       "      <th>Weight</th>\n",
       "      <th>Age</th>\n",
       "      <th>Seasons in league</th>\n",
       "    </tr>\n",
       "  </thead>\n",
       "  <tbody>\n",
       "    <tr>\n",
       "      <th>Weight</th>\n",
       "      <td>1.000000</td>\n",
       "      <td>-0.059031</td>\n",
       "      <td>0.023107</td>\n",
       "    </tr>\n",
       "    <tr>\n",
       "      <th>Age</th>\n",
       "      <td>-0.059031</td>\n",
       "      <td>1.000000</td>\n",
       "      <td>0.911513</td>\n",
       "    </tr>\n",
       "    <tr>\n",
       "      <th>Seasons in league</th>\n",
       "      <td>0.023107</td>\n",
       "      <td>0.911513</td>\n",
       "      <td>1.000000</td>\n",
       "    </tr>\n",
       "  </tbody>\n",
       "</table>\n",
       "</div>"
      ],
      "text/plain": [
       "                     Weight       Age  Seasons in league\n",
       "Weight             1.000000 -0.059031           0.023107\n",
       "Age               -0.059031  1.000000           0.911513\n",
       "Seasons in league  0.023107  0.911513           1.000000"
      ]
     },
     "execution_count": 103,
     "metadata": {},
     "output_type": "execute_result"
    }
   ],
   "source": [
    "df.corr()"
   ]
  },
  {
   "cell_type": "code",
   "execution_count": 104,
   "metadata": {},
   "outputs": [
    {
     "data": {
      "image/png": "[encoded data removed]",
      "text/plain": [
       "<Figure size 432x288 with 2 Axes>"
      ]
     },
     "metadata": {
      "needs_background": "light"
     },
     "output_type": "display_data"
    }
   ],
   "source": [
    "correlation_matrix(df) # original data"
   ]
  },
  {
   "cell_type": "code",
   "execution_count": 105,
   "metadata": {},
   "outputs": [
    {
     "data": {
      "text/html": [
       "<div>\n",
       "<style scoped>\n",
       "    .dataframe tbody tr th:only-of-type {\n",
       "        vertical-align: middle;\n",
       "    }\n",
       "\n",
       "    .dataframe tbody tr th {\n",
       "        vertical-align: top;\n",
       "    }\n",
       "\n",
       "    .dataframe thead th {\n",
       "        text-align: right;\n",
       "    }\n",
       "</style>\n",
       "<table border=\"1\" class=\"dataframe\">\n",
       "  <thead>\n",
       "    <tr style=\"text-align: right;\">\n",
       "      <th></th>\n",
       "      <th>Player Weight</th>\n",
       "      <th>Age</th>\n",
       "      <th>Years in League</th>\n",
       "    </tr>\n",
       "  </thead>\n",
       "  <tbody>\n",
       "    <tr>\n",
       "      <th>Player Weight</th>\n",
       "      <td>1.000000</td>\n",
       "      <td>-0.059031</td>\n",
       "      <td>0.023107</td>\n",
       "    </tr>\n",
       "    <tr>\n",
       "      <th>Age</th>\n",
       "      <td>-0.059031</td>\n",
       "      <td>1.000000</td>\n",
       "      <td>0.911513</td>\n",
       "    </tr>\n",
       "    <tr>\n",
       "      <th>Years in League</th>\n",
       "      <td>0.023107</td>\n",
       "      <td>0.911513</td>\n",
       "      <td>1.000000</td>\n",
       "    </tr>\n",
       "  </tbody>\n",
       "</table>\n",
       "</div>"
      ],
      "text/plain": [
       "                 Player Weight       Age  Years in League\n",
       "Player Weight         1.000000 -0.059031         0.023107\n",
       "Age                  -0.059031  1.000000         0.911513\n",
       "Years in League       0.023107  0.911513         1.000000"
      ]
     },
     "execution_count": 105,
     "metadata": {},
     "output_type": "execute_result"
    }
   ],
   "source": [
    "df_normalized.corr()"
   ]
  },
  {
   "cell_type": "code",
   "execution_count": 106,
   "metadata": {},
   "outputs": [
    {
     "data": {
      "image/png": "[encoded data removed]",
      "text/plain": [
       "<Figure size 432x288 with 2 Axes>"
      ]
     },
     "metadata": {
      "needs_background": "light"
     },
     "output_type": "display_data"
    }
   ],
   "source": [
    "correlation_matrix(df_normalized) # normalized data"
   ]
  },
  {
   "cell_type": "code",
   "execution_count": 20,
   "metadata": {},
   "outputs": [],
   "source": [
    "X = df_normalized.drop('mpg',axis=1)\n",
    "y = df_normalized['mpg']"
   ]
  },
  {
   "cell_type": "code",
   "execution_count": 21,
   "metadata": {},
   "outputs": [
    {
     "name": "stdout",
     "output_type": "stream",
     "text": [
      "X_train shape:  (294, 6)\n",
      "y_train shape:  (294,)\n",
      "X_test shape:  (98, 6)\n",
      "y_test shape:  (98,)\n"
     ]
    }
   ],
   "source": [
    "# Split data to training and test\n",
    "from sklearn.model_selection import train_test_split\n",
    "# Split X and y into X_\n",
    "X_train, X_test, y_train, y_test = train_test_split(X, y, test_size=0.25, random_state=1)\n",
    "print(\"X_train shape: \",X_train.shape) # 294 rows, 6 columns\n",
    "print(\"y_train shape: \",y_train.shape) # 294 rows, 1 column\n",
    "print(\"X_test shape: \",X_test.shape) # 98 rows, 6 columns\n",
    "print(\"y_test shape: \",y_test.shape) # 98 rows, 1 column\n",
    "# print(y_train)"
   ]
  },
  {
   "cell_type": "code",
   "execution_count": 22,
   "metadata": {},
   "outputs": [
    {
     "name": "stdout",
     "output_type": "stream",
     "text": [
      "dict_keys(['Linear_Regression', 'Ridge', 'Lasso', 'LassoLars', 'BayesianRidge'])\n"
     ]
    }
   ],
   "source": [
    "# Training models in Python dictionary\n",
    "import math\n",
    "from sklearn.metrics import mean_squared_error\n",
    "from sklearn.linear_model import LinearRegression\n",
    "from sklearn.linear_model import Ridge\n",
    "from sklearn.linear_model import Lasso\n",
    "from sklearn.linear_model import LassoLars\n",
    "from sklearn.linear_model import BayesianRidge\n",
    "\n",
    "# Next line is \"dictionary\" data structure from class 1\n",
    "d_models = {\"Linear_Regression\": LinearRegression(),\n",
    "            \"Ridge\": Ridge(alpha=0.5),\n",
    "            \"Lasso\": Lasso(alpha=0.1),\n",
    "            \"LassoLars\": LassoLars(alpha=0.1),\n",
    "            \"BayesianRidge\": BayesianRidge()}\n",
    "models_list = d_models.keys()\n",
    "print(models_list)"
   ]
  },
  {
   "cell_type": "code",
   "execution_count": 27,
   "metadata": {},
   "outputs": [
    {
     "name": "stdout",
     "output_type": "stream",
     "text": [
      "Linear_Regression   0.0964521327815362\n",
      "Ridge   0.09658071800222987\n",
      "Lasso   0.22473205510307503\n",
      "LassoLars   0.22473205510307503\n",
      "BayesianRidge   0.09622827500001652\n"
     ]
    }
   ],
   "source": [
    "for regression_model in models_list:\n",
    "    regressor = d_models[regression_model]\n",
    "    regressor.fit(X_train,y_train)\n",
    "    y_predict = regressor.predict(X_test)\n",
    "    regression_model_mse = mean_squared_error(y_predict, y_test)\n",
    "    print(regression_model,\" \",math.sqrt(regression_model_mse))\n",
    "    ##From the output the one with least sqrt of (MeanSquareError) is the best fit.\n",
    "    ##In this case BayesianRidge is the best"
   ]
  },
  {
   "cell_type": "code",
   "execution_count": 23,
   "metadata": {},
   "outputs": [
    {
     "name": "stdout",
     "output_type": "stream",
     "text": [
      "0.459963959067748\n",
      "[-0.0012727   0.02855689  0.00597503 -0.62086694  0.06906028  0.23813814]\n",
      "Number of coefficients is  6\n"
     ]
    }
   ],
   "source": [
    "# Training model  Regression one more times with winning model\n",
    "from sklearn.linear_model import BayesianRidge\n",
    "lm = BayesianRidge()\n",
    "lm.fit(X_train, y_train)\n",
    "print(lm.intercept_)\n",
    "print(lm.coef_)\n",
    "print (\"Number of coefficients is \",len(lm.coef_))"
   ]
  },
  {
   "cell_type": "code",
   "execution_count": 24,
   "metadata": {},
   "outputs": [
    {
     "name": "stdout",
     "output_type": "stream",
     "text": [
      "0.09622827500001647\n"
     ]
    }
   ],
   "source": [
    "import math\n",
    "from sklearn.metrics import mean_squared_error\n",
    "y_predict = lm.predict(X_test)\n",
    "regression_model_mse = mean_squared_error(y_predict, y_test)\n",
    "print(math.sqrt(regression_model_mse))"
   ]
  },
  {
   "cell_type": "code",
   "execution_count": 25,
   "metadata": {},
   "outputs": [],
   "source": [
    "# Try to make predictions on unknown data\n",
    "# Put mpg = 20 as dummy value\n",
    "# Cylinders – 4\n",
    "# Displacement – 121\n",
    "# Horsepower – 110\n",
    "# Weight – 2800\n",
    "# Acceleration – 15.4\n",
    "# Year – 81"
   ]
  },
  {
   "cell_type": "code",
   "execution_count": 26,
   "metadata": {},
   "outputs": [
    {
     "name": "stdout",
     "output_type": "stream",
     "text": [
      "Starting predict request: [[  20.     4.   121.   110.  2800.    15.4   81. ]]\n"
     ]
    }
   ],
   "source": [
    "#First Test with new data.  Prediction will start\n",
    "first_test = np.array([[20,4,121,110,2800,15.4,81]])\n",
    "print(\"Starting predict request:\",first_test)"
   ]
  },
  {
   "cell_type": "code",
   "execution_count": 27,
   "metadata": {},
   "outputs": [
    {
     "name": "stdout",
     "output_type": "stream",
     "text": [
      "Normalized new test row : [[0.29255319 0.2        0.1369509  0.34782609 0.33654664 0.44047619\n",
      "  0.91666667]]\n"
     ]
    }
   ],
   "source": [
    "first_test_transform = min_max_scaler.transform(first_test) # apply the same transform\n",
    "print(\"Normalized new test row :\",first_test_transform)"
   ]
  },
  {
   "cell_type": "code",
   "execution_count": 28,
   "metadata": {},
   "outputs": [],
   "source": [
    "test_1 = list(first_test_transform[0][1:7]) # Extract all values excluding mpg\n",
    "test_seq = [test_1] # make a list of list"
   ]
  },
  {
   "cell_type": "code",
   "execution_count": 29,
   "metadata": {},
   "outputs": [
    {
     "name": "stdout",
     "output_type": "stream",
     "text": [
      "Test result MPG (still normalized):  0.505460603323559\n"
     ]
    }
   ],
   "source": [
    "test_result = lm.predict(test_seq) # apply model prediction\n",
    "print(\"Test result MPG (still normalized): \",test_result[0]) # this is still normalized mpg result"
   ]
  },
  {
   "cell_type": "code",
   "execution_count": 30,
   "metadata": {},
   "outputs": [
    {
     "name": "stdout",
     "output_type": "stream",
     "text": [
      "Test row with predicted (still normalized):  [[0.5054606  0.2        0.1369509  0.34782609 0.33654664 0.44047619\n",
      "  0.91666667]]\n"
     ]
    }
   ],
   "source": [
    "first_test_transform[0][0] = test_result[0] # put result back, replace dummy with predicted\n",
    "print(\"Test row with predicted (still normalized): \",first_test_transform)"
   ]
  },
  {
   "cell_type": "code",
   "execution_count": 31,
   "metadata": {},
   "outputs": [
    {
     "name": "stdout",
     "output_type": "stream",
     "text": [
      "Final test result:  [[  28.00531868    4.          121.          110.         2800.\n",
      "    15.4          81.        ]]\n",
      "Predicted MPG:  28.00531868496582\n"
     ]
    }
   ],
   "source": [
    "result = min_max_scaler.inverse_transform(first_test_transform) # apply inverse transform\n",
    "print(\"Final test result: \",result)\n",
    "print(\"Predicted MPG: \",result[0][0])"
   ]
  },
  {
   "cell_type": "code",
   "execution_count": 25,
   "metadata": {},
   "outputs": [],
   "source": [
    "# Above test is Saab and actual MPG is 26"
   ]
  },
  {
   "cell_type": "code",
   "execution_count": null,
   "metadata": {},
   "outputs": [],
   "source": []
  }
 ],
 "metadata": {
  "kernelspec": {
   "display_name": "Python 3",
   "language": "python",
   "name": "python3"
  },
  "language_info": {
   "codemirror_mode": {
    "name": "ipython",
    "version": 3
   },
   "file_extension": ".py",
   "mimetype": "text/x-python",
   "name": "python",
   "nbconvert_exporter": "python",
   "pygments_lexer": "ipython3",
   "version": "3.7.0"
  }
 },
 "nbformat": 4,
 "nbformat_minor": 2
}
